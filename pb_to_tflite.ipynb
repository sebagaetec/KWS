{
  "nbformat": 4,
  "nbformat_minor": 0,
  "metadata": {
    "colab": {
      "provenance": []
    },
    "kernelspec": {
      "name": "python3",
      "display_name": "Python 3"
    },
    "language_info": {
      "name": "python"
    }
  },
  "cells": [
    {
      "cell_type": "markdown",
      "source": [
        "# De .pb a .tflite para STM32Cube.AI"
      ],
      "metadata": {
        "id": "m5gadfW-1pw8"
      }
    },
    {
      "cell_type": "code",
      "execution_count": null,
      "metadata": {
        "colab": {
          "base_uri": "https://localhost:8080/"
        },
        "id": "3SnrtY501nuC",
        "outputId": "5b3df5f2-d868-40ad-d6a7-796f0045b968"
      },
      "outputs": [
        {
          "output_type": "stream",
          "name": "stdout",
          "text": [
            "Modelo .pb convertido a .tflite exitosamente como 'DS_CNN_S.tflite'\n"
          ]
        }
      ],
      "source": [
        "import tensorflow as tf\n",
        "\n",
        "converter = tf.compat.v1.lite.TFLiteConverter.from_frozen_graph(\n",
        "    graph_def_file=\"DS_CNN_S.pb\",\n",
        "    input_arrays=[\"Reshape_1\"],         # <- aquí va el nombre real\n",
        "    output_arrays=[\"labels_softmax\"]    # <- y aquí también\n",
        ")\n",
        "\n",
        "converter.optimizations = [tf.lite.Optimize.DEFAULT]\n",
        "tflite_model = converter.convert()\n",
        "\n",
        "# You might want to save the .tflite model as well\n",
        "with open(\"DS_CNN_S.tflite\", \"wb\") as f:\n",
        "    f.write(tflite_model)\n",
        "\n",
        "print(\"Modelo .pb convertido a .tflite exitosamente como 'DS_CNN_S.tflite'\")\n",
        "\n",
        "\n",
        "\n"
      ]
    }
  ]
}