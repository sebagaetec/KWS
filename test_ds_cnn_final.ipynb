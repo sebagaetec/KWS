{
  "cells": [
    {
      "cell_type": "code",
      "execution_count": 1,
      "metadata": {
        "colab": {
          "base_uri": "https://localhost:8080/"
        },
        "collapsed": true,
        "id": "fxFpMF5rIccQ",
        "outputId": "44049e4e-c486-43fe-bac9-fbb9c6363ec8"
      },
      "outputs": [
        {
          "name": "stdout",
          "output_type": "stream",
          "text": [
            "wav_data\n",
            "decoded_sample_data\n",
            "AudioSpectrogram\n",
            "Mfcc\n",
            "Reshape/shape\n",
            "Reshape\n",
            "Reshape_1/shape\n",
            "Reshape_1\n",
            "MobileNet/conv_1/weights\n",
            "MobileNet/conv_1/weights/read\n",
            "MobileNet/conv_1/biases\n",
            "MobileNet/conv_1/biases/read\n",
            "MobileNet/conv_1/Conv2D\n",
            "MobileNet/conv_1/BiasAdd\n",
            "MobileNet/conv_1/batch_norm/beta\n",
            "MobileNet/conv_1/batch_norm/beta/read\n",
            "MobileNet/conv_1/batch_norm/Const\n",
            "MobileNet/conv_1/batch_norm/moving_mean\n",
            "MobileNet/conv_1/batch_norm/moving_mean/read\n",
            "MobileNet/conv_1/batch_norm/moving_variance\n",
            "MobileNet/conv_1/batch_norm/moving_variance/read\n",
            "MobileNet/conv_1/batch_norm/FusedBatchNorm\n",
            "MobileNet/conv_1/batch_norm/Relu\n",
            "MobileNet/conv_ds_1/depthwise_conv/depthwise_weights\n",
            "MobileNet/conv_ds_1/depthwise_conv/depthwise_weights/read\n",
            "MobileNet/conv_ds_1/depthwise_conv/depthwise\n",
            "MobileNet/conv_ds_1/depthwise_conv/biases\n",
            "MobileNet/conv_ds_1/depthwise_conv/biases/read\n",
            "MobileNet/conv_ds_1/depthwise_conv/BiasAdd\n",
            "MobileNet/conv_ds_1/dw_batch_norm/beta\n",
            "MobileNet/conv_ds_1/dw_batch_norm/beta/read\n",
            "MobileNet/conv_ds_1/dw_batch_norm/Const\n",
            "MobileNet/conv_ds_1/dw_batch_norm/moving_mean\n",
            "MobileNet/conv_ds_1/dw_batch_norm/moving_mean/read\n",
            "MobileNet/conv_ds_1/dw_batch_norm/moving_variance\n",
            "MobileNet/conv_ds_1/dw_batch_norm/moving_variance/read\n",
            "MobileNet/conv_ds_1/dw_batch_norm/FusedBatchNorm\n",
            "MobileNet/conv_ds_1/dw_batch_norm/Relu\n",
            "MobileNet/conv_ds_1/pointwise_conv/weights\n",
            "MobileNet/conv_ds_1/pointwise_conv/weights/read\n",
            "MobileNet/conv_ds_1/pointwise_conv/biases\n",
            "MobileNet/conv_ds_1/pointwise_conv/biases/read\n",
            "MobileNet/conv_ds_1/pointwise_conv/Conv2D\n",
            "MobileNet/conv_ds_1/pointwise_conv/BiasAdd\n",
            "MobileNet/conv_ds_1/pw_batch_norm/beta\n",
            "MobileNet/conv_ds_1/pw_batch_norm/beta/read\n",
            "MobileNet/conv_ds_1/pw_batch_norm/Const\n",
            "MobileNet/conv_ds_1/pw_batch_norm/moving_mean\n",
            "MobileNet/conv_ds_1/pw_batch_norm/moving_mean/read\n",
            "MobileNet/conv_ds_1/pw_batch_norm/moving_variance\n",
            "MobileNet/conv_ds_1/pw_batch_norm/moving_variance/read\n",
            "MobileNet/conv_ds_1/pw_batch_norm/FusedBatchNorm\n",
            "MobileNet/conv_ds_1/pw_batch_norm/Relu\n",
            "MobileNet/conv_ds_2/depthwise_conv/depthwise_weights\n",
            "MobileNet/conv_ds_2/depthwise_conv/depthwise_weights/read\n",
            "MobileNet/conv_ds_2/depthwise_conv/depthwise\n",
            "MobileNet/conv_ds_2/depthwise_conv/biases\n",
            "MobileNet/conv_ds_2/depthwise_conv/biases/read\n",
            "MobileNet/conv_ds_2/depthwise_conv/BiasAdd\n",
            "MobileNet/conv_ds_2/dw_batch_norm/beta\n",
            "MobileNet/conv_ds_2/dw_batch_norm/beta/read\n",
            "MobileNet/conv_ds_2/dw_batch_norm/Const\n",
            "MobileNet/conv_ds_2/dw_batch_norm/moving_mean\n",
            "MobileNet/conv_ds_2/dw_batch_norm/moving_mean/read\n",
            "MobileNet/conv_ds_2/dw_batch_norm/moving_variance\n",
            "MobileNet/conv_ds_2/dw_batch_norm/moving_variance/read\n",
            "MobileNet/conv_ds_2/dw_batch_norm/FusedBatchNorm\n",
            "MobileNet/conv_ds_2/dw_batch_norm/Relu\n",
            "MobileNet/conv_ds_2/pointwise_conv/weights\n",
            "MobileNet/conv_ds_2/pointwise_conv/weights/read\n",
            "MobileNet/conv_ds_2/pointwise_conv/biases\n",
            "MobileNet/conv_ds_2/pointwise_conv/biases/read\n",
            "MobileNet/conv_ds_2/pointwise_conv/Conv2D\n",
            "MobileNet/conv_ds_2/pointwise_conv/BiasAdd\n",
            "MobileNet/conv_ds_2/pw_batch_norm/beta\n",
            "MobileNet/conv_ds_2/pw_batch_norm/beta/read\n",
            "MobileNet/conv_ds_2/pw_batch_norm/Const\n",
            "MobileNet/conv_ds_2/pw_batch_norm/moving_mean\n",
            "MobileNet/conv_ds_2/pw_batch_norm/moving_mean/read\n",
            "MobileNet/conv_ds_2/pw_batch_norm/moving_variance\n",
            "MobileNet/conv_ds_2/pw_batch_norm/moving_variance/read\n",
            "MobileNet/conv_ds_2/pw_batch_norm/FusedBatchNorm\n",
            "MobileNet/conv_ds_2/pw_batch_norm/Relu\n",
            "MobileNet/conv_ds_3/depthwise_conv/depthwise_weights\n",
            "MobileNet/conv_ds_3/depthwise_conv/depthwise_weights/read\n",
            "MobileNet/conv_ds_3/depthwise_conv/depthwise\n",
            "MobileNet/conv_ds_3/depthwise_conv/biases\n",
            "MobileNet/conv_ds_3/depthwise_conv/biases/read\n",
            "MobileNet/conv_ds_3/depthwise_conv/BiasAdd\n",
            "MobileNet/conv_ds_3/dw_batch_norm/beta\n",
            "MobileNet/conv_ds_3/dw_batch_norm/beta/read\n",
            "MobileNet/conv_ds_3/dw_batch_norm/Const\n",
            "MobileNet/conv_ds_3/dw_batch_norm/moving_mean\n",
            "MobileNet/conv_ds_3/dw_batch_norm/moving_mean/read\n",
            "MobileNet/conv_ds_3/dw_batch_norm/moving_variance\n",
            "MobileNet/conv_ds_3/dw_batch_norm/moving_variance/read\n",
            "MobileNet/conv_ds_3/dw_batch_norm/FusedBatchNorm\n",
            "MobileNet/conv_ds_3/dw_batch_norm/Relu\n",
            "MobileNet/conv_ds_3/pointwise_conv/weights\n",
            "MobileNet/conv_ds_3/pointwise_conv/weights/read\n",
            "MobileNet/conv_ds_3/pointwise_conv/biases\n",
            "MobileNet/conv_ds_3/pointwise_conv/biases/read\n",
            "MobileNet/conv_ds_3/pointwise_conv/Conv2D\n",
            "MobileNet/conv_ds_3/pointwise_conv/BiasAdd\n",
            "MobileNet/conv_ds_3/pw_batch_norm/beta\n",
            "MobileNet/conv_ds_3/pw_batch_norm/beta/read\n",
            "MobileNet/conv_ds_3/pw_batch_norm/Const\n",
            "MobileNet/conv_ds_3/pw_batch_norm/moving_mean\n",
            "MobileNet/conv_ds_3/pw_batch_norm/moving_mean/read\n",
            "MobileNet/conv_ds_3/pw_batch_norm/moving_variance\n",
            "MobileNet/conv_ds_3/pw_batch_norm/moving_variance/read\n",
            "MobileNet/conv_ds_3/pw_batch_norm/FusedBatchNorm\n",
            "MobileNet/conv_ds_3/pw_batch_norm/Relu\n",
            "MobileNet/conv_ds_4/depthwise_conv/depthwise_weights\n",
            "MobileNet/conv_ds_4/depthwise_conv/depthwise_weights/read\n",
            "MobileNet/conv_ds_4/depthwise_conv/depthwise\n",
            "MobileNet/conv_ds_4/depthwise_conv/biases\n",
            "MobileNet/conv_ds_4/depthwise_conv/biases/read\n",
            "MobileNet/conv_ds_4/depthwise_conv/BiasAdd\n",
            "MobileNet/conv_ds_4/dw_batch_norm/beta\n",
            "MobileNet/conv_ds_4/dw_batch_norm/beta/read\n",
            "MobileNet/conv_ds_4/dw_batch_norm/Const\n",
            "MobileNet/conv_ds_4/dw_batch_norm/moving_mean\n",
            "MobileNet/conv_ds_4/dw_batch_norm/moving_mean/read\n",
            "MobileNet/conv_ds_4/dw_batch_norm/moving_variance\n",
            "MobileNet/conv_ds_4/dw_batch_norm/moving_variance/read\n",
            "MobileNet/conv_ds_4/dw_batch_norm/FusedBatchNorm\n",
            "MobileNet/conv_ds_4/dw_batch_norm/Relu\n",
            "MobileNet/conv_ds_4/pointwise_conv/weights\n",
            "MobileNet/conv_ds_4/pointwise_conv/weights/read\n",
            "MobileNet/conv_ds_4/pointwise_conv/biases\n",
            "MobileNet/conv_ds_4/pointwise_conv/biases/read\n",
            "MobileNet/conv_ds_4/pointwise_conv/Conv2D\n",
            "MobileNet/conv_ds_4/pointwise_conv/BiasAdd\n",
            "MobileNet/conv_ds_4/pw_batch_norm/beta\n",
            "MobileNet/conv_ds_4/pw_batch_norm/beta/read\n",
            "MobileNet/conv_ds_4/pw_batch_norm/Const\n",
            "MobileNet/conv_ds_4/pw_batch_norm/moving_mean\n",
            "MobileNet/conv_ds_4/pw_batch_norm/moving_mean/read\n",
            "MobileNet/conv_ds_4/pw_batch_norm/moving_variance\n",
            "MobileNet/conv_ds_4/pw_batch_norm/moving_variance/read\n",
            "MobileNet/conv_ds_4/pw_batch_norm/FusedBatchNorm\n",
            "MobileNet/conv_ds_4/pw_batch_norm/Relu\n",
            "MobileNet/avg_pool/AvgPool\n",
            "MobileNet/SpatialSqueeze\n",
            "MobileNet/fc1/weights\n",
            "MobileNet/fc1/weights/read\n",
            "MobileNet/fc1/biases\n",
            "MobileNet/fc1/biases/read\n",
            "MobileNet/fc1/MatMul\n",
            "MobileNet/fc1/BiasAdd\n",
            "labels_softmax\n"
          ]
        }
      ],
      "source": [
        "import tensorflow.compat.v1 as tf\n",
        "tf.disable_eager_execution()\n",
        "\n",
        "# Cargar grafo\n",
        "pb_path = 'DS_CNN_S.pb'\n",
        "\n",
        "with tf.gfile.GFile(pb_path, 'rb') as f:\n",
        "    graph_def = tf.GraphDef()\n",
        "    graph_def.ParseFromString(f.read())\n",
        "\n",
        "# Importar grafo y crear sesión\n",
        "with tf.Graph().as_default() as graph:\n",
        "    tf.import_graph_def(graph_def, name='')\n",
        "\n",
        "    sess = tf.Session(graph=graph)\n",
        "\n",
        "    # Inspeccionamos nombres de tensores\n",
        "    for op in graph.get_operations():\n",
        "        print(op.name)\n"
      ]
    },
    {
      "cell_type": "code",
      "execution_count": 4,
      "metadata": {
        "id": "2bacPyqSJQa7"
      },
      "outputs": [],
      "source": [
        "import librosa\n",
        "import numpy as np\n",
        "\n",
        "def preprocess_audio(file_path):\n",
        "    y, sr = librosa.load(file_path, sr=16000)\n",
        "    y = y[:16000] if len(y) > 16000 else np.pad(y, (0, max(0, 16000 - len(y))))  # 1 segundo\n",
        "\n",
        "    mel_spec = librosa.feature.melspectrogram(y=y, sr=16000, n_fft=640, hop_length=320,\n",
        "                                              n_mels=40, fmin=20, fmax=4000, center=False)\n",
        "    mfcc = librosa.feature.mfcc(S=librosa.power_to_db(mel_spec), n_mfcc=10)\n",
        "    mfcc = mfcc.T  # (49, 10)\n",
        "    mfcc = np.expand_dims(mfcc, axis=-1)       # (49, 10, 1)\n",
        "    mfcc = np.expand_dims(mfcc, axis=0)        # (1, 49, 10, 1)\n",
        "\n",
        "    return mfcc.astype(np.float32)\n"
      ]
    },
    {
      "cell_type": "code",
      "execution_count": 9,
      "metadata": {
        "colab": {
          "base_uri": "https://localhost:8080/"
        },
        "id": "d_iwNiYhJUTE",
        "outputId": "c0ce3da0-81a5-451f-94ad-1aa7d0e1015d"
      },
      "outputs": [
        {
          "name": "stdout",
          "output_type": "stream",
          "text": [
            "Predicción: right\n",
            "Probabilidades: [[3.1013939e-10 1.1702927e-03 6.9647067e-06 1.2431881e-02 6.6332422e-07\n",
            "  4.7662769e-07 1.6167814e-05 9.6144825e-01 3.3294305e-06 1.2067918e-07\n",
            "  2.3447440e-08 2.4921818e-02]]\n"
          ]
        }
      ],
      "source": [
        "# Cargar audio\n",
        "mfcc = preprocess_audio(\"right.wav\")\n",
        "\n",
        "# Obtener tensores\n",
        "input_tensor = graph.get_tensor_by_name('Reshape_1:0')\n",
        "output_tensor = graph.get_tensor_by_name('labels_softmax:0')\n",
        "\n",
        "# Ejecutar inferencia\n",
        "output = sess.run(output_tensor, feed_dict={input_tensor: mfcc})\n",
        "\n",
        "# Etiquetas (mismo orden del repo)\n",
        "labels = [\"silence\", \"unknown\", \"yes\", \"no\", \"up\", \"down\", \"left\", \"right\", \"on\", \"off\", \"stop\", \"go\"]\n",
        "\n",
        "print(\"Predicción:\", labels[np.argmax(output)])\n",
        "print(\"Probabilidades:\", output)\n"
      ]
    },
    {
      "cell_type": "markdown",
      "metadata": {
        "id": "RGVTg-ALOxGn"
      },
      "source": [
        "Hasta acá el modelo sin cuantizar funciona perfecto"
      ]
    },
    {
      "cell_type": "markdown",
      "metadata": {
        "id": "Un9TlMxzO3Q5"
      },
      "source": [
        "# Cuantización"
      ]
    },
    {
      "cell_type": "code",
      "execution_count": 10,
      "metadata": {
        "colab": {
          "base_uri": "https://localhost:8080/"
        },
        "id": "bvc7UEOHO995",
        "outputId": "48f75f61-59f0-4783-a569-080ce5c4bf04"
      },
      "outputs": [
        {
          "name": "stdout",
          "output_type": "stream",
          "text": [
            "2.18.0\n"
          ]
        }
      ],
      "source": [
        "import tensorflow as tf\n",
        "print(tf.__version__)  # debería ser 2.x\n"
      ]
    },
    {
      "cell_type": "code",
      "execution_count": 19,
      "metadata": {
        "colab": {
          "base_uri": "https://localhost:8080/"
        },
        "id": "NmzsC0hhPUf5",
        "outputId": "a7441c78-89a5-4dd5-ab1f-f08c950c136f"
      },
      "outputs": [
        {
          "name": "stdout",
          "output_type": "stream",
          "text": [
            "Modelo convertido a float TFLite exitosamente.\n"
          ]
        }
      ],
      "source": [
        "import tensorflow as tf\n",
        "\n",
        "converter = tf.compat.v1.lite.TFLiteConverter.from_frozen_graph(\n",
        "    graph_def_file='DS_CNN_S.pb',\n",
        "    input_arrays=['Reshape_1'],             # nombre del tensor de entrada\n",
        "    output_arrays=['labels_softmax'],       # nombre del tensor de salida\n",
        "    input_shapes={'Reshape_1': [1, 49, 10, 1]}\n",
        ")\n",
        "\n",
        "# Sin cuantización\n",
        "tflite_model = converter.convert()\n",
        "\n",
        "# Guardar el modelo\n",
        "with open('ds_cnn_float.tflite', 'wb') as f:\n",
        "    f.write(tflite_model)\n",
        "\n",
        "print(\"Modelo convertido a float TFLite exitosamente.\")\n",
        "\n"
      ]
    },
    {
      "cell_type": "code",
      "execution_count": null,
      "metadata": {
        "id": "50_0xS8XRzzb"
      },
      "outputs": [],
      "source": [
        "import os\n",
        "import numpy as np\n",
        "import tensorflow as tf\n",
        "import librosa\n",
        "\n",
        "def standardize_preprocessing_REVISED(file_path, sr=16000, n_mfcc=10, n_fft=640, hop_length=320, n_mels=40, fmin=20, fmax=4000):\n",
        "    \"\"\"\n",
        "    Standardized audio preprocessing to generate MFCCs.\n",
        "    Matches the original successful .pb model preprocessing from cell 2.\n",
        "    Explicit per-sample MFCC normalization is REMOVED.\n",
        "    \"\"\"\n",
        "    y, sr_loaded = librosa.load(file_path, sr=sr)\n",
        "\n",
        "    # Pad/truncate to 1 second (16000 samples)\n",
        "    if len(y) > sr:\n",
        "        y = y[:sr]\n",
        "    else:\n",
        "        y = np.pad(y, (0, max(0, sr - len(y))), 'constant')\n",
        "\n",
        "    mel_spec = librosa.feature.melspectrogram(y=y, sr=sr, n_fft=n_fft, hop_length=hop_length,\n",
        "                                              n_mels=n_mels, fmin=fmin, fmax=fmax, center=False) #\n",
        "    mfcc = librosa.feature.mfcc(S=librosa.power_to_db(mel_spec), n_mfcc=n_mfcc) #\n",
        "    mfcc = mfcc.T  # Transpose to (time_frames, n_mfcc) which is (49, 10)\n",
        "\n",
        "\n",
        "    if mfcc.shape[0] != 49:\n",
        "        if mfcc.shape[0] < 49:\n",
        "            pad_width = 49 - mfcc.shape[0]\n",
        "            mfcc = np.pad(mfcc, ((0, pad_width), (0, 0)), mode='constant')\n",
        "        elif mfcc.shape[0] > 49:\n",
        "            mfcc = mfcc[:49, :]\n",
        "\n",
        "    # Reshape for TFLite model: (1, 49, 10, 1)\n",
        "    mfcc = np.expand_dims(mfcc, axis=-1) # (49, 10, 1)\n",
        "    mfcc = np.expand_dims(mfcc, axis=0)  # (1, 49, 10, 1)\n",
        "\n",
        "    return mfcc.astype(np.float32)\n"
      ]
    },
    {
      "cell_type": "code",
      "execution_count": 177,
      "metadata": {
        "colab": {
          "base_uri": "https://localhost:8080/"
        },
        "id": "QaL7KWlV3Vvb",
        "outputId": "00ab7839-a786-4beb-9af6-04d894cf82ed"
      },
      "outputs": [
        {
          "name": "stdout",
          "output_type": "stream",
          "text": [
            "--- Float TFLite Model (down.wav) with REVISED Preprocessing ---\n",
            "Input data shape: (1, 49, 10, 1)\n",
            "Input data type: float32\n",
            "Prediction: down\n",
            "Probabilities: [[1.2286399e-08 8.7782582e-03 1.3783874e-04 3.2073833e-02 1.1164533e-06\n",
            "  9.5302641e-01 3.5775043e-05 1.3056492e-03 2.4862279e-04 8.4167652e-07\n",
            "  1.4483442e-03 2.9433304e-03]]\n"
          ]
        }
      ],
      "source": [
        "import tensorflow as tf # Make sure TF is imported if not already\n",
        "import os # For file checks\n",
        "\n",
        "# Assuming ds_cnn_float.tflite was generated in cell 19\n",
        "model_path_float = 'ds_cnn_float.tflite'\n",
        "if not os.path.exists(model_path_float):\n",
        "    print(f\"Model file not found: {model_path_float}\")\n",
        "else:\n",
        "    interpreter_float = tf.lite.Interpreter(model_path=model_path_float)\n",
        "    interpreter_float.allocate_tensors()\n",
        "\n",
        "    input_details_float = interpreter_float.get_input_details()\n",
        "    output_details_float = interpreter_float.get_output_details()\n",
        "\n",
        "    # Prepare input using the REVISED standardized function\n",
        "    audio_file = \"down.wav\" # Use one of your test files like \"right.wav\"\n",
        "    if not os.path.exists(audio_file):\n",
        "        print(f\"Audio file not found: {audio_file}. Please make sure it exists.\")\n",
        "        # You might need to upload it to your Colab environment if it's not there\n",
        "        # e.g. by running:\n",
        "        # !wget https://storage.googleapis.com/download.tensorflow.org/data/speech_commands_v0.02/right/00f0204f_nohash_0.wav -O right.wav\n",
        "        # (or use any other .wav file you have that worked with the .pb model)\n",
        "    else:\n",
        "        input_data_float = standardize_preprocessing_REVISED(audio_file)\n",
        "\n",
        "        interpreter_float.set_tensor(input_details_float[0]['index'], input_data_float)\n",
        "        interpreter_float.invoke()\n",
        "        output_data_float = interpreter_float.get_tensor(output_details_float[0]['index'])\n",
        "\n",
        "        labels = [\"silence\", \"unknown\", \"yes\", \"no\", \"up\", \"down\", \"left\", \"right\", \"on\", \"off\", \"stop\", \"go\"] #\n",
        "        print(f\"--- Float TFLite Model ({audio_file}) with REVISED Preprocessing ---\")\n",
        "        print(\"Input data shape:\", input_data_float.shape)\n",
        "        print(\"Input data type:\", input_data_float.dtype)\n",
        "        print(\"Prediction:\", labels[np.argmax(output_data_float)])\n",
        "        print(\"Probabilities:\", output_data_float)"
      ]
    },
    {
      "cell_type": "markdown",
      "metadata": {
        "id": "N8RX3Ssg5yLF"
      },
      "source": [
        "Hasta aqui, el modelo float puede predecir bien"
      ]
    },
    {
      "cell_type": "code",
      "execution_count": null,
      "metadata": {
        "id": "Yloea0MOR9W_"
      },
      "outputs": [],
      "source": [
        "import os\n",
        "import librosa\n",
        "import numpy as np\n",
        "\n",
        "AUDIO_DIR = '/content/representative_audio_files/'\n",
        "if not os.path.exists(AUDIO_DIR):\n",
        "    os.makedirs(AUDIO_DIR)\n",
        "    print(f\"Created directory: {AUDIO_DIR}\")\n",
        "    print(f\"Please upload your representative wav files to this directory.\")\n",
        "\n",
        "def representative_data_gen_REVISED():\n",
        "    print(f\"Looking for audio files in: {AUDIO_DIR}\")\n",
        "    file_list = [f for f in os.listdir(AUDIO_DIR) if f.endswith('.wav')]\n",
        "    if not file_list:\n",
        "        print(f\"No .wav files found in {AUDIO_DIR}. Representative dataset will be empty.\")\n",
        "        return\n",
        "\n",
        "    count = 0\n",
        "    num_samples_to_yield = min(len(file_list), 150) # Use up to 150 samples or all if fewer\n",
        "\n",
        "    for fname in file_list:\n",
        "        audio_path = os.path.join(AUDIO_DIR, fname)\n",
        "        try:\n",
        "            mfcc_float = standardize_preprocessing_REVISED(audio_path)\n",
        "            yield [mfcc_float]\n",
        "            count += 1\n",
        "            if count >= num_samples_to_yield:\n",
        "                print(f\"Generated {count} representative samples.\")\n",
        "                break\n",
        "        except Exception as e:\n",
        "            print(f\"Skipping {audio_path} due to error during preprocessing: {e}\")\n",
        "\n",
        "    if count == 0:\n",
        "        print(\"No representative audio files were successfully processed. Quantization will likely fail or be poor.\")\n",
        "    elif count < 100 and len(file_list) >=100 : # if many files available but few processed\n",
        "         print(f\"Warning: Only {count} representative samples processed successfully. Check for errors.\")\n",
        "    elif count < 50 : # if few files available or processed\n",
        "        print(f\"Warning: Only {count} representative samples. Consider adding more (100-300 recommended) for better quantization.\")"
      ]
    },
    {
      "cell_type": "code",
      "execution_count": null,
      "metadata": {
        "colab": {
          "base_uri": "https://localhost:8080/"
        },
        "id": "_uvXAh9h8QCN",
        "outputId": "9770d05e-8a9a-49fb-ca22-43b5296a1d2f"
      },
      "outputs": [
        {
          "name": "stdout",
          "output_type": "stream",
          "text": [
            "Looking for audio files in: /content/representative_audio_files/\n",
            "Generated 120 representative samples.\n",
            "Revised model quantized to int8 saved as: ds_cnn_int8_revised.tflite\n"
          ]
        }
      ],
      "source": [
        "import tensorflow as tf # Ensure tf is imported\n",
        "\n",
        "pb_file_path = 'DS_CNN_S.pb'\n",
        "if not os.path.exists(pb_file_path):\n",
        "    print(f\"Error: Frozen graph file {pb_file_path} not found. Please ensure it's in the correct location.\")\n",
        "else:\n",
        "    converter_int8_revised = tf.compat.v1.lite.TFLiteConverter.from_frozen_graph(\n",
        "        graph_def_file=pb_file_path,\n",
        "        input_arrays=['Reshape_1'], #\n",
        "        output_arrays=['labels_softmax'], #\n",
        "        input_shapes={'Reshape_1': [1, 49, 10, 1]} #\n",
        "    )\n",
        "\n",
        "    converter_int8_revised.optimizations = [tf.lite.Optimize.DEFAULT]\n",
        "    converter_int8_revised.representative_dataset = representative_data_gen_REVISED\n",
        "    converter_int8_revised.target_spec.supported_ops = [tf.lite.OpsSet.TFLITE_BUILTINS_INT8]\n",
        "    converter_int8_revised.inference_input_type = tf.uint8 # o tf.int8\n",
        "    converter_int8_revised.inference_output_type = tf.uint8 # o tf.int8\n",
        "\n",
        "    tflite_quant_model_revised = converter_int8_revised.convert()\n",
        "\n",
        "    quantized_model_path = 'ds_cnn_int8_revised.tflite'\n",
        "    with open(quantized_model_path, 'wb') as f:\n",
        "        f.write(tflite_quant_model_revised)\n",
        "    print(f\"Revised model quantized to int8 saved as: {quantized_model_path}\")"
      ]
    },
    {
      "cell_type": "code",
      "execution_count": null,
      "metadata": {
        "colab": {
          "base_uri": "https://localhost:8080/"
        },
        "id": "k4IHgFsP9FwZ",
        "outputId": "3cb8ab12-7e18-4a55-8062-fcec65be88e2"
      },
      "outputs": [
        {
          "name": "stdout",
          "output_type": "stream",
          "text": [
            "Revised Int8 Input Details: [{'name': 'Reshape_1', 'index': 0, 'shape': array([ 1, 49, 10,  1], dtype=int32), 'shape_signature': array([ 1, 49, 10,  1], dtype=int32), 'dtype': <class 'numpy.uint8'>, 'quantization': (2.602257490158081, 198), 'quantization_parameters': {'scales': array([2.6022575], dtype=float32), 'zero_points': array([198], dtype=int32), 'quantized_dimension': 0}, 'sparsity_parameters': {}}]\n",
            "Revised Int8 Output Details: [{'name': 'labels_softmax', 'index': 34, 'shape': array([ 1, 12], dtype=int32), 'shape_signature': array([ 1, 12], dtype=int32), 'dtype': <class 'numpy.uint8'>, 'quantization': (0.00390625, 0), 'quantization_parameters': {'scales': array([0.00390625], dtype=float32), 'zero_points': array([0], dtype=int32), 'quantized_dimension': 0}, 'sparsity_parameters': {}}]\n",
            "\n",
            "--- REVISED INT8 Quantized Model Predictions ---\n",
            "Audio: yes (yes.wav)\n",
            "Prediction: yes\n",
            "Raw Output Scores (quantized): [  0   0 255   0   0   0   0   0   0   0   0   0]\n",
            "\n",
            "Audio: no (no.wav)\n",
            "Prediction: no\n",
            "Raw Output Scores (quantized): [  0   0   0 255   0   0   0   0   0   0   0   0]\n",
            "\n",
            "Audio: right (right.wav)\n",
            "Prediction: right\n",
            "Raw Output Scores (quantized): [  0   0   0   1   0   0   0 254   0   0   0   1]\n",
            "\n"
          ]
        }
      ],
      "source": [
        "# Load the new revised int8 model\n",
        "interpreter_int8_revised = tf.lite.Interpreter(model_path='ds_cnn_int8_revised.tflite')\n",
        "interpreter_int8_revised.allocate_tensors()\n",
        "\n",
        "input_details_int8_revised = interpreter_int8_revised.get_input_details()\n",
        "output_details_int8_revised = interpreter_int8_revised.get_output_details()\n",
        "\n",
        "print(\"Revised Int8 Input Details:\", input_details_int8_revised)\n",
        "print(\"Revised Int8 Output Details:\", output_details_int8_revised)\n",
        "\n",
        "input_scale, input_zero_point = input_details_int8_revised[0]['quantization']\n",
        "\n",
        "def preprocess_audio_for_int8_revised_inference(audio_path):\n",
        "    mfcc_float = standardize_preprocessing_REVISED(audio_path)\n",
        "\n",
        "    # 2. Quantize the float input to match model's expected input type\n",
        "    mfcc_quantized = (mfcc_float / input_scale) + input_zero_point\n",
        "    mfcc_quantized = mfcc_quantized.astype(input_details_int8_revised[0]['dtype'])\n",
        "    return mfcc_quantized\n",
        "\n",
        "# Test with multiple audio files\n",
        "labels = [\"silence\", \"unknown\", \"yes\", \"no\", \"up\", \"down\", \"left\", \"right\", \"on\", \"off\", \"stop\", \"go\"] #\n",
        "audio_files_to_test = { \n",
        "    'yes': 'yes.wav',\n",
        "    'no': 'no.wav',\n",
        "    'right': 'right.wav',\n",
        "}\n",
        "\n",
        "print(\"\\n--- REVISED INT8 Quantized Model Predictions ---\")\n",
        "for label_key, path in audio_files_to_test.items():\n",
        "    if not os.path.exists(path):\n",
        "        print(f\"Warning: Audio file for testing '{label_key}' ({path}) not found. Skipping.\")\n",
        "        continue\n",
        "\n",
        "    input_data_int8 = preprocess_audio_for_int8_revised_inference(path)\n",
        "    interpreter_int8_revised.set_tensor(input_details_int8_revised[0]['index'], input_data_int8)\n",
        "    interpreter_int8_revised.invoke()\n",
        "    output_data_int8 = interpreter_int8_revised.get_tensor(output_details_int8_revised[0]['index'])\n",
        "\n",
        "    pred_index = np.argmax(output_data_int8[0])\n",
        "    print(f\"Audio: {label_key} ({path})\")\n",
        "    print(f\"Prediction: {labels[pred_index]}\")\n",
        "    print(f\"Raw Output Scores (quantized): {output_data_int8[0]}\\n\")"
      ]
    },
    {
      "cell_type": "code",
      "execution_count": null,
      "metadata": {
        "id": "JJIsVTlPTYJM"
      },
      "outputs": [],
      "source": [
        "\n",
        "def preprocess_audio(path):\n",
        "    # The dynamic range quantized model expects float32 input.\n",
        "    return standardize_preprocessing_REVISED(path)\n",
        "\n"
      ]
    },
    {
      "cell_type": "code",
      "execution_count": null,
      "metadata": {
        "collapsed": true,
        "id": "6z5wctvmTeHY"
      },
      "outputs": [],
      "source": [
        "def standardize_preprocessing_from_data_REVISED(y, sr_loaded, target_sr=16000, n_mfcc=10, n_fft=640, hop_length=320, n_mels=40, fmin=20, fmax=4000):\n",
        "    if sr_loaded != target_sr:\n",
        "        # Ensure y is float before resampling if it's not already\n",
        "        y = y.astype(np.float32) if not np.issubdtype(y.dtype, np.floating) else y\n",
        "        y = librosa.resample(y, orig_sr=sr_loaded, target_sr=target_sr)\n",
        "\n",
        "    # Pad/truncate to 1 second (target_sr samples)\n",
        "    if len(y) > target_sr:\n",
        "        y = y[:target_sr]\n",
        "    else:\n",
        "        y = np.pad(y, (0, max(0, target_sr - len(y))), 'constant')\n",
        "\n",
        "    mel_spec = librosa.feature.melspectrogram(y=y, sr=target_sr, n_fft=n_fft, hop_length=hop_length,\n",
        "                                              n_mels=n_mels, fmin=fmin, fmax=fmax, center=False)\n",
        "    mfcc = librosa.feature.mfcc(S=librosa.power_to_db(mel_spec), n_mfcc=n_mfcc)\n",
        "    mfcc = mfcc.T\n",
        "\n",
        "    if mfcc.shape[0] != 49:\n",
        "        if mfcc.shape[0] < 49:\n",
        "            pad_width = 49 - mfcc.shape[0]\n",
        "            mfcc = np.pad(mfcc, ((0, pad_width), (0, 0)), mode='constant')\n",
        "        elif mfcc.shape[0] > 49:\n",
        "            mfcc = mfcc[:49, :]\n",
        "\n",
        "    # NO explicit MFCC normalization\n",
        "    mfcc = np.expand_dims(mfcc, axis=-1)\n",
        "    mfcc = np.expand_dims(mfcc, axis=0)\n",
        "    return mfcc.astype(np.float32)\n",
        "\n"
      ]
    },
    {
      "cell_type": "code",
      "execution_count": 197,
      "metadata": {
        "colab": {
          "base_uri": "https://localhost:8080/"
        },
        "id": "3kRGcXCsHpp6",
        "outputId": "f625ae24-5efc-43bf-b50f-3b88ec3dfe6e"
      },
      "outputs": [
        {
          "name": "stdout",
          "output_type": "stream",
          "text": [
            "Ejecuta record_audio() para grabar. Luego usa process_audio(audio_bytes) para convertirlo y hacer inferencia.\n"
          ]
        }
      ],
      "source": [
        "from IPython.display import display, HTML\n",
        "from google.colab import output\n",
        "from base64 import b64decode\n",
        "import io\n",
        "import numpy as np\n",
        "import ffmpeg\n",
        "from scipy.io.wavfile import read as wav_read\n",
        "\n",
        "AUDIO_HTML = \"\"\"\n",
        "<script>\n",
        "var recordButton = document.createElement(\"BUTTON\");\n",
        "recordButton.innerText = \"Start Recording\";\n",
        "document.body.appendChild(recordButton);\n",
        "\n",
        "var recorder;\n",
        "var gumStream;\n",
        "var audioChunks = [];\n",
        "\n",
        "recordButton.onclick = async () => {\n",
        "  if (recorder && recorder.state == \"recording\") {\n",
        "    recorder.stop();\n",
        "    gumStream.getAudioTracks()[0].stop();\n",
        "    recordButton.innerText = \"Start Recording\";\n",
        "  } else {\n",
        "    audioChunks = [];\n",
        "    let stream = await navigator.mediaDevices.getUserMedia({audio:true});\n",
        "    gumStream = stream;\n",
        "    recorder = new MediaRecorder(stream);\n",
        "    recorder.ondataavailable = e => audioChunks.push(e.data);\n",
        "    recorder.onstop = e => {\n",
        "      let blob = new Blob(audioChunks, {type: 'audio/webm'});\n",
        "      var reader = new FileReader();\n",
        "      reader.readAsDataURL(blob);\n",
        "      reader.onloadend = () => {\n",
        "        var base64data = reader.result;\n",
        "        google.colab.kernel.invokeFunction('notebook.receive_audio', [base64data], {});\n",
        "      };\n",
        "    };\n",
        "    recorder.start();\n",
        "    recordButton.innerText = \"Stop Recording\";\n",
        "  }\n",
        "};\n",
        "</script>\n",
        "\"\"\"\n",
        "\n",
        "audio_bytes = None\n",
        "\n",
        "def receive_audio(data):\n",
        "    global audio_bytes\n",
        "    header, encoded = data.split(',', 1)\n",
        "    audio_bytes = b64decode(encoded)\n",
        "\n",
        "output.register_callback('notebook.receive_audio', receive_audio)\n",
        "\n",
        "def record_audio():\n",
        "    display(HTML(AUDIO_HTML))\n",
        "\n",
        "def process_audio(audio_bytes):\n",
        "    process = (\n",
        "        ffmpeg\n",
        "        .input('pipe:0')\n",
        "        .output('pipe:1', format='wav', ac=1, ar='16000')\n",
        "        .run_async(pipe_stdin=True, pipe_stdout=True, pipe_stderr=True)\n",
        "    )\n",
        "    output_wav, _ = process.communicate(input=audio_bytes)\n",
        "    sr, audio = wav_read(io.BytesIO(output_wav))\n",
        "    return audio, sr\n",
        "\n",
        "print(\"Ejecuta record_audio() para grabar. Luego usa process_audio(audio_bytes) para convertirlo y hacer inferencia.\")\n",
        "\n"
      ]
    },
    {
      "cell_type": "code",
      "execution_count": 183,
      "metadata": {
        "id": "Qprk7kxDdoHn"
      },
      "outputs": [],
      "source": [
        "import numpy as np\n",
        "import tensorflow as tf\n",
        "import librosa # Make sure librosa is imported\n",
        "from python_speech_features import mfcc\n",
        "from IPython.display import Audio\n",
        "\n",
        "\n",
        "def run_tflite_inference_singleFile(model_path, audio_data, sample_rate):\n",
        "    \"\"\"\n",
        "    Runs inference on a TFLite model with a single audio input.\n",
        "    Handles both float and quantized (int8/uint8) models.\n",
        "\n",
        "    Args:\n",
        "        model_path (str): Path to the .tflite model file.\n",
        "        audio_data (np.array): Raw audio data.\n",
        "        sample_rate (int): Sample rate of the audio_data.\n",
        "\n",
        "    Returns:\n",
        "        tuple: (predicted_label_index, predicted_label, probabilities_or_scores)\n",
        "               probabilities_or_scores will be float probabilities if dequantized,\n",
        "               otherwise raw quantized scores.\n",
        "    \"\"\"\n",
        "    labels = ['silence', 'unknown', 'yes', 'no', 'up', 'down', 'left', 'right', 'on', 'off', 'stop', 'go'] #\n",
        "\n",
        "    # Load TFLite model and allocate tensors\n",
        "    interpreter = tf.lite.Interpreter(model_path=model_path)\n",
        "    interpreter.allocate_tensors()\n",
        "\n",
        "    input_details = interpreter.get_input_details()[0]\n",
        "    output_details = interpreter.get_output_details()[0]\n",
        "\n",
        "    # Preprocess audio data to get float MFCCs\n",
        "    # This uses the REVISED logic (no extra MFCC normalization)\n",
        "    input_mfcc_float = standardize_preprocessing_from_data_REVISED(audio_data, sample_rate)\n",
        "\n",
        "    # Check if model is quantized and quantize input if necessary\n",
        "    input_tensor_data = input_mfcc_float\n",
        "    if input_details['dtype'] == np.uint8 or input_details['dtype'] == np.int8:\n",
        "        input_scale, input_zero_point = input_details['quantization']\n",
        "        if input_scale != 0.0 or input_zero_point != 0: # Check if valid quantization params\n",
        "             input_tensor_data = (input_mfcc_float / input_scale) + input_zero_point\n",
        "             input_tensor_data = input_tensor_data.astype(input_details['dtype'])\n",
        "        else: # Should not happen for properly quantized models with int8/uint8 type\n",
        "            print(\"Warning: Model input is int8/uint8 but quantization params are trivial. Using float input.\")\n",
        "            # Or, one might decide to cast if the model truly expects unscaled int values,\n",
        "            # but that's unusual for TFLite converted models.\n",
        "            # Forcing it to float might cause errors if it strictly expects int.\n",
        "            # input_tensor_data = input_mfcc_float.astype(input_details['dtype']) # Risky if no scale/zp\n",
        "\n",
        "    # Set input tensor\n",
        "    # Ensure input_tensor_data shape matches model's expected input shape,\n",
        "    # standardize_preprocessing_from_data_REVISED should already produce the correct shape [1, 49, 10, 1]\n",
        "    if tuple(input_tensor_data.shape) != tuple(input_details['shape']):\n",
        "        print(f\"Warning: Reshaping input from {input_tensor_data.shape} to {input_details['shape']}\")\n",
        "        input_tensor_data = np.reshape(input_tensor_data, input_details['shape'])\n",
        "\n",
        "    interpreter.set_tensor(input_details['index'], input_tensor_data)\n",
        "\n",
        "    # Run inference\n",
        "    interpreter.invoke()\n",
        "\n",
        "    # Get output tensor\n",
        "    output_data = interpreter.get_tensor(output_details['index'])\n",
        "\n",
        "    output_scores = output_data[0] # Assuming batch size of 1\n",
        "\n",
        "    # Dequantize output if necessary to get float probabilities\n",
        "    if output_details['dtype'] == np.uint8 or output_details['dtype'] == np.int8:\n",
        "        output_scale, output_zero_point = output_details['quantization']\n",
        "        if output_scale != 0.0 or output_zero_point != 0:\n",
        "            output_scores_float = (output_scores.astype(np.float32) - output_zero_point) * output_scale\n",
        "            probabilities_or_scores = output_scores_float\n",
        "        else: # Output is quantized but no dequantization params, return raw scores\n",
        "            probabilities_or_scores = output_scores\n",
        "            print(\"Warning: Output is quantized but dequantization params are trivial. Returning raw scores.\")\n",
        "    else: # Output is already float\n",
        "        probabilities_or_scores = output_scores\n",
        "\n",
        "    # Get prediction\n",
        "    pred_idx = np.argmax(probabilities_or_scores) # Argmax on float probabilities or raw scores\n",
        "    predicted_label = labels[pred_idx]\n",
        "\n",
        "    print(f\"\\nModel: {model_path}\")\n",
        "    print(f\"Predicted Index: {pred_idx}\")\n",
        "    print(f\"Predicted Label: {predicted_label}\")\n",
        "    if output_details['dtype'] == np.float32:\n",
        "        print(f\"Probabilities: {np.round(probabilities_or_scores, 4)}\")\n",
        "    else:\n",
        "        print(f\"Dequantized Scores (if applicable, otherwise raw): {np.round(probabilities_or_scores, 4)}\")\n",
        "        print(f\"Raw Quantized Output Scores: {output_data[0]}\")\n",
        "\n",
        "\n",
        "    return pred_idx, predicted_label, probabilities_or_scores"
      ]
    },
    {
      "cell_type": "code",
      "execution_count": 198,
      "metadata": {
        "colab": {
          "base_uri": "https://localhost:8080/",
          "height": 38
        },
        "id": "u8rN6sVzdFQF",
        "outputId": "31d93398-a952-484d-cb7a-a3cc41e3809a"
      },
      "outputs": [
        {
          "data": {
            "text/html": [
              "\n",
              "<script>\n",
              "var recordButton = document.createElement(\"BUTTON\");\n",
              "recordButton.innerText = \"Start Recording\";\n",
              "document.body.appendChild(recordButton);\n",
              "\n",
              "var recorder;\n",
              "var gumStream;\n",
              "var audioChunks = [];\n",
              "\n",
              "recordButton.onclick = async () => {\n",
              "  if (recorder && recorder.state == \"recording\") {\n",
              "    recorder.stop();\n",
              "    gumStream.getAudioTracks()[0].stop();\n",
              "    recordButton.innerText = \"Start Recording\";\n",
              "  } else {\n",
              "    audioChunks = [];\n",
              "    let stream = await navigator.mediaDevices.getUserMedia({audio:true});\n",
              "    gumStream = stream;\n",
              "    recorder = new MediaRecorder(stream);\n",
              "    recorder.ondataavailable = e => audioChunks.push(e.data);\n",
              "    recorder.onstop = e => {\n",
              "      let blob = new Blob(audioChunks, {type: 'audio/webm'});\n",
              "      var reader = new FileReader();\n",
              "      reader.readAsDataURL(blob);\n",
              "      reader.onloadend = () => {\n",
              "        var base64data = reader.result;\n",
              "        google.colab.kernel.invokeFunction('notebook.receive_audio', [base64data], {});\n",
              "      };\n",
              "    };\n",
              "    recorder.start();\n",
              "    recordButton.innerText = \"Stop Recording\";\n",
              "  }\n",
              "};\n",
              "</script>\n"
            ],
            "text/plain": [
              "<IPython.core.display.HTML object>"
            ]
          },
          "metadata": {},
          "output_type": "display_data"
        }
      ],
      "source": [
        "record_audio()"
      ]
    },
    {
      "cell_type": "code",
      "execution_count": 214,
      "metadata": {
        "colab": {
          "base_uri": "https://localhost:8080/",
          "height": 131
        },
        "id": "77OaYj8iIZ1M",
        "outputId": "579f7c68-cbf4-430f-d5e3-c4d6e18fdfbf"
      },
      "outputs": [
        {
          "name": "stderr",
          "output_type": "stream",
          "text": [
            "<ipython-input-197-1d6e0a5c5b76>:66: WavFileWarning: Reached EOF prematurely; finished at 32719 bytes, expected 4294967303 bytes from header.\n",
            "  sr, audio = wav_read(io.BytesIO(output_wav))\n"
          ]
        },
        {
          "data": {
            "text/html": [
              "\n",
              "                <audio  controls=\"controls\" >\n",
              "                    <source src=\"data:audio/wav;base64,UklGRqR/AABXQVZFZm10IBAAAAABAAEAgD4AAAB9AAACABAAZGF0YYB/AAAAAAAAAAAAAAAAAAAAAAAAAAAAAAAAAAAAAAAAAAAAAAAAAAAAAAAAAAAAAAAAAAAAAAAAAAAAAAAAAAAAAAAAAAAAAAAAAAAAAAAAAAAAAAAAAAAAAAAAAAAAAAAAAAAAAAAAAAAAAAAAAAAAAAAAAAAAAAAAAAAAAAAAAAAAAAAAAAAAAAAAAAAAAAAAAAAAAAAAAAAAAAAAAAAAAAAAAAAAAAAAAAAAAAAAAAAAAAAAAAAAAAAAAAAAAAAAAAAAAAAAAAAAAAAAAAAAAAAAAAAAAAAAAAAAAAAAAAAAAAAAAAAAAAAAAAAAAAAAAAAAAAAAAQAAAAAA//8AAAAAAQABAAAA/////wAAAAABAAEAAAD/////AAABAAEAAAAAAP////8AAAEAAQAAAP////8AAAEAAQABAAAA/////wAAAQABAAAA/////wAAAQABAAAAAAD/////AAABAAEAAAD/////AAABAAEA//8AAP//AAABAAAAAQAAAP//AAAAAAEAAQAAAP////8BAAEAAAAAAAAAAAD//wEAAAD//wIAAAD9/wAAAgAAAAAAAQD+/wAAAgD//wEAAQD9/wAAAQAAAP//AQACAP3///8AAAIABAD9//z/AQAEAP//+/8FAAMA+v8BAP3///8IAP//+f/+/wYAAQD7/wMAAAABAAIA+v8AAAQABQD///T/BAAJAPz//f8BAAIA/v///wIA9/8LAAwA8//+/xEAHwDr/9b/7f/N/97/y/+e/+n/FgDR/9D/GQAuAPb/CQAIAMH/AAAQAOf/HgAsAP3/wP/l/xMA4//8//P/w/8HADoACgD2/zQAQQD7/ysAVgBQAGwAWAAgAAMAJQBKAO3/5f8TAOj/vv/P//j/7v/n/8n/b/+x/w8A4P/P/+z/8P/W/xEAgwBwAEkAawBLAEoAggCJAHQAiwCeAD8AQwB+AD4AAAD7//v/tP9w/7v/uf9t/2//YP9F/1T/p//D/4z/qv+y/6L/9f8lABcAMwBeAHUAaACmAN4ArQCzAJsAXQCMAEwA0f/0/1AAEABu/4z/9v/B/3b/Tf9B/z7/Mf8o/zz/k//d/5P/W//Q/0oAPgD+/ysAeACAAGoAZwCPAL4AyABsAAwAXACZADoAGQAJAOH/pP+V/37/Zf/m/8T/NP9D/4//CADJ/2f/nf+4//f/xf+b/zgAaQA3AFUAcQC6AMIAYwAaADoAoABbAAIAQwB5AGwA5/+l/xUAKgDW/4j/pv/h/7//q/+M/6P/y/+4/7T/3f9DACsA0f8VAF0AbQBZACEAAwAWAFQAXQARADoAbwA9ABwADAAFANP/ov+v/5X/k//N/7L/gv+Z/8n/qv9d/5T/9P/s/8///v8mADEAQAA0ABoAPQBAAAkAGgCFAFMA5f85AGAA9//S/+D/yP/J/ywAHQCZ/6//AACx/4X/z//U/37/mf8AABoAKABXADMAIQBmAG0AMQAeAFwAnAByAF4AfQB7AFUALAAbAPf/2/8GAAYAxf/h//L/oP98/7H/xv+c/5D/tP/U/wQALQD//+f/IgAyACwALQBEAGAAfgCYAIIASABbADgA6f8JACcAGgDM/6b/BQAHAMX/s/+8/4v/d//B/8D/kP/h/yEA8P8WAEoA//8CAFcAOgDp/zcAiABTAEEAVAANAOz/JAD7/9n/OQAmAJr/s/8sAP3/qv+t/63/nP+7/97/1v8HACUA8f/a/93/4P/H/8//6P/0//b/BAANABwABQD0/+T/yP/J/+n/FwAMAO7/6f/4/xgACwDR/+X/EAAAAOz/GABgAEgAQAAqAOz/2P/u/xYALwAoACcADwD4/+j/zf/P/9b/tv+Q/6j/GgA7AOT/0P8VACgA/f/8/xoAMAAiABwASgCxAOsAmwAUACIAWwAnAAgAHAArAA8A7f/K/5j/w//n/4X/Yv+m/8r/yf+k/6n/y//Y/8L/s//q/y4AHAANACAAXgClAHkAEgAmAEQAHwAUAEoARwAnACEAAADL/+7/9P+M/4P/6P/P/3L/k//M/8//zv/M/5j/qP/5/+7/3P8kAGIAVAAtABEARQCaAGYAAQAfAHsATwASADQAKgAIAAIAzf+3/yEAPQCu/37/CQAbAL3/2P8JAN7/rv+j/8z/IAByAC4A8v8dAEsANwAPAOb/AAAvAOD/uP8RAFYA9//K/xgAHQARAD0A7/+o/wYADgCz/8//NwABAKb/8f8rAA8ANQBBABoANgBfACkAzf/A/wkAAwC6/83/DgAVALX/nP/S/+b/8f/g/6r/4v8wAAAAwP/z/x4A2/+k/73/9/8gABIA5f8RAFEAPQAaACEAJAAfAP//6f8MAD0AKQDt//H/BgDl/9n/uf+k/8z/4P/Y/9H/yP/c/87/qf+9/9f/AwAWAAoALgBMADwAEgAjAIoAdgAfADAAOgBlAFQAFQBDAEEAFgAJAAEAHwAaAO//zv/v/zEA/P+6/+v/5//H//T/4f/R/xkAFQDe/+P/EAAbAPr/DAAwAAYAEAAwAC4AEQA8AEAA9//s/zAAQgACACEAJwABABsA9P/A//n/GQCL/zb/CwBfANL/6v8mAAQA4f/h/9P/1P8jAOj/gP/u/2IAKwD2//z/8v/j/+P/zv/Z/w4AKQDq/73/KABWAPj/tv/D/9//AQAPAOj/HQBTABoA4P++//f/RAD6/73/FQBWABcAz//r//3/6f/S/57/nv/+/yMAEQAIAEMAMQDI/5D/tv8OACcAEQABAB0AagBWAAgADQBVAFAA5v/j/0kAgQBRAAUALABUAEMAJwDe//T/QQAaAPT/IwAyAPP/o/9//5n/yv/z/xkACwAtAIgAOQCc/83/LwDo/5r/GgByAHkAvACeADkAgQA0AOP+Dv81APP/gv9PAHcA9f97ADYARP8fACkA3v6l/2UAu//o/yUAgf+n/zwAfv9k/2gAxP+E/zkAw/+G/xUAyf9c/xsAXADw/y0ARQAKAGYAZQCk/xAAngD7/9z/HABeAKcAHgDJ/w0AKgCR/7L/IgDd/8D/rv/E/6n/BAAnAJb/nP8nAJn/+f+UAAMA+P8lABEA8/8QAKEAVwDk/zUAlAB3ADwAeQD6/xUA+/8CAAoAMwBKAN3/rf+v/+b/zv+x/1z/df+h/3//e//V/8n/GgDP/3n/RAAqAJ3/DgA/ABEAWwBPAEsAqgBuAGAAYgBfAHMAUgAaAAwAzv/O/wwA1P/c/8P/0f/V/5j/pf/F/7//qf+i/77/z//0/+//GADX/z4AgwDu//b/UgBQAMb/LwBjAPf/GgAHAO////8vABcAqv/i/+r/Z/+o/9z/yv+i/+b/lv+L/8j/3P+d/47/FgA1AAIAKgBHAPP/LAAxAO7/iQCCAGcAEQBPAJkASQAXAAQABQDA/xYAUP9PAE3/bwC+/zkA/v9t/0gBzf39/coEdfvIA/r8SwMa/nMBCwEf/24CYf38ARYAO/+AAer+4gBjAMj+VwGI//v/wv+j/28Apv/b//MAnP4FAeH9hAEy/8X/dwAdAM//mv8TAL7/8f+v/00Avf/h/1MAy/9IANP/1ACS/ycAVwCL/zgAHwAAABMANAADALH/pf8JAHn/1v9t/zQA6P8AABcAAACg/wUAMgAMACwAngD3/7D/gwA7AF8AfADM/1cAOf+hAHD/UwAXACQAFQEh/gMBNQAa/wwAO//3AGf/DQGIAPn/EwG1/i8BO/9tADkAzv8mAMv/x/+WAM3/GwDm/xAAuP99/yMADQARAB0AmP+IAJb/BgDy/+P/DQBaAMb/CABGAAAA2P+T/+b/5v/b/0YA+P8tAP7/JgDq//X/JwD5/+P/5v/f/y0A/f8BAOb/4P/y/7j/m/+d/+//yv/h/wUALwADANX/xv/x/0sAQAAmAAYAWwBFABcA5f/8//L/xf/C/7L/CQCd/8r/u//8/+r/7f+1/8D/0P8OAGcAGABxABMAkgA1AJ3/GQGM/zgAXf/u/2QAyv/0/zP//v+F/87/GABd/7z/lf8aAP//BgCuANX/yv8tALn/KAD//zAA6//v/zAAgv8mAN//wv+y//X/7f/B/x0Aof/x/1z/XwDw/27/WwBZ/83/kf/0/8H/uP/2/7v/EwCR//r/9f/W/y4AmgA1AGYAFwB8AG0ApADcAEEAlABCAHoAXwCgAGgANABBAAQAKgDz/xwA3/8nACMAr/8NAAoAJQDZ/9X/fgCTAJcAVQDAAH0AUQBEAEoAZgAjAAwAOgAiAN//uv8MANv/2/+p/4H/jf+D/27/kv/z/5//pv9d/4v/d/9o/73/CADJ/+3/3//t/6b/1v8XANv/aAAYAAUAJABYAEwA//9ZAFoAKAAuABUAUQDr/zgAMQBCAJkA4f/H/8H/4f/W/87/+v9GACoADAAEANf/zv8sAHUAUQACAHAAQAAsAEoAegCxAH0AQgDV/xwAMQDv//D/HQAlAJL/j/+7/4L/pf+F/+j/nv/j/8j/q//R/67/ef+v/xMAv/8MANT/nP/o/8r/CwC6/1QAqf/a/8v/wv8/AN3/ZQD6/7b/0P+c/7f/+v8KAPv/AQDz/5r/ov/7/6T/1f/j/wAA0v/A/0wA7//L/97/VABLAOr/hQBQAPX/RwA6AIYAMAB2APD/w/8cAPb/GQDg/24AQAAaAPr/LABMACsAaQBPACMAvwCdAFYAYwB1AI8AWgCWADcAKQBUABYAFAAgAE4A7f/1/+b/wP8MANn/UQDZ/x4ADgDs/9L/sP9OAB8A2f/4/ycAyP+7/9T/sf/X/8j/zv97/6v/6//C/5L/pv/l/5f/0v+D/5H/nv+I/8L/ff8BAOj/sv+w/3b/kf+P/0cAj//c/xIAuP+7//D/AwC+/+f/7f8UABYADgAqACYA9f8GAOv/8v8TACAA6/8dAFAAXAAUAD0ASgDa/zIAMwBfADgAUQCFADYAeQAqAEsALgBVAFkAHwBLAHIASABBAEcAMgDn/wIAOgDc/8v/LABAAPX/OQAaAPX///83APr//f82AFYAqv8HAFIAFgDD/4r/AgCf/9D/5v8NALr/rv8XAL3/pv/I/67/gf++/wgAz//q/zIA2/+m//7/CwCp/9P/IgAOALL/LwAxAMD/yf/m/7n/x//p/0QAwv8AAE4ACQDZ/+P/3P9r/9v/QgDz/8v/IwApAOj/EQBhABkA9/8UABUAzv8NAFoA4/+5/ysAJADK/+H/2P/E/+z///8CAC4AWQAdALX/JgBtACoALQBRAF4AWgCUAGMASABlAJwADAAgAJkAOADx/9f/TgACABIA/P+//4L/zP/t/+n/AwA3APH/rf8DABgAkP/C/1IAPQDp/2EAZQACAOz/KADu/9H/LwAbAKD/1P/5/+b/1P8kAOL/rf+2/8L/y//I//L/sP/Y/97/zv+L/5X/qP+K/1z/DADl/87/t//f/9L/wv9AAFgAQAA/AEQARgAuAGwARAAaABYA7//I/83/BgAbAO7/2f/p/7L/zv8JAO3/uv/+/yIAFAAuAE0AWAAMACkAaAA6AFUAOABNAOz/FAAPAAoABgDy/9T/x/8QACMAGAAuAFQAGwDf/+f/GwAYACUA+/8UACQAHQALAAMACwDy/+z/vf/J//T/6P/j//X/PQD//8z/1//m/83/2f8QAAYAYAA9ACgA4v///73/t//d/7r/JgANANv/m/+4/wcAyv8IACkAEgDq/+f/CAAaAE4AZQAGAMz/z//v/xUA4v/Z/yoASwADAA0AHADG/6f/l/+s/0cAtABjANX/OwAyAAcALwB8AFUACQD3/73/vf9lAC4AkP+A/9b/uP8//9b/yf/k/+r//f8CACIAWgDD/7P/TgBqAG4AiQCaADAAAAAGAOD/CgAmAAkAxv++//f/EQDT/8T/FQDw/8P/7f8NAOf/9P9WAEIASwBpAP7/mf/Z/wwA3/8EADkA7f/2/x8A9//z/04AHgDF/xYAaABPAFgAYAA0ABkAQQAkAPL/EgDv/7P/5/8gAO7/xv/G/3X/U/+O/7b/9P/8/wMAx/8BACEAHwAlACYASAD2/wMANQBmAFAAEwBcADIAoP/J//f/k/+u//P/x/+u/ycA+P8t/4D/tP+F/9j/egAmAJP/IgAyALb/5f9dACcAEgAfAPb/EwB3AEoA6P9ZAHAAEgD+//z/2v8EAGIAXgA4AEcAEACT/5P/1v/3/y8AJQAZAAEAAgCr/6v/7f8CACEAFADt/y4AjwAuANr/XACQAB8A9f8vAA4AAwAiACAAHwBpAPr/kf9S/2j/y//E/+X/vv/4/w8AwP+0/+P/+v/z/wIAQQBOAKAAqgAGADEAYgBDAOj/x/8dAAUABgDT//P/WQDQ/5X/hf+q/6r/4/8eAP//DwBpAAYAs/80AGsAGwAsAD0ADwA1ALcAQwAcAHwAKgCG/6j/EwDZ/6H/BAAFAOn/CgCh/zv/Nf9d/2f/7v9TABMAuP/Z/8H/w//7/zcAWQD3//j/SAB3ACsAIwCRADIA7v/s/93/kP/K/wMAkf/s/2AAof/f/jr/dv8U/57////G/+j/+v+m/07/7f8SANb/QwB2AAwAIgB0AD0AOACdAK0ACgADAB4A6f/0/zkAWABWAAwAt/+K/4L/l/+t/7v/pv8yAD8AxP+x/wgA4/+t/yAALAAnAIoAmgDY/yIA5wCmACQASgBdAOz/EABfAEAAlACSAND/ef/K////sf8EAD8A9//K/+P/HgD9//v//v/M/7D/8/9vAHMAOAA8AEwASwAEAC0ACgDs/w4A1v/g/6MAzADo/0//r/+m/1z/4//7/7X/iv/K/5r/t/8LANr/cf+p/////f8QAGcAOwAqAF4AbgArABMADwAEAOb/PgDFAIAA5/+r/7X/kf94/67/3f/v/+X/tf+3/9f/+//R/9z//v8DAPD/JgBGAFgAdgCGAIAAawBPACwAEAA0AGoAkgB2AGkAOADi/4n/U/+V/+j/1//s/+//jv+b/53/pP9//9T/+f/N/wMAOwBHAAcAbQCYAGIAWwBaADsAMABYAGUAcQCPAFMA3v/K/6f/fv+S/8L/0/+o/8f/wv96/1L/af+C/7H/0P+6/8H/4P8dABMAKABsAC4AFgBIAFAAKAAzAJkAmABCADQAJgDq/7r/uv+d/8r/+v+u/5X/lv9i/wD/OP+a/4D/hP/c/+L/tv/z/y4AKAAEACoANgAlAHcAjQCHAKQAswA6ADYAgQAnAJj/uP9eAGcABwDu//L/3f+w/4z/nf+f/7P/lf+q/x8ANAAPANz/5v/g/9z/GgBYAGUAXACcAJ0AVQBLAHYAKQAYADsAVABSAEwAawAoAAMAIQDj/43/uv/5/9//uf/h//v/CwAqAAwAx/+q/6L/u//5/2kAoQBzAAsA7f/t//z/AwAeACcAAABCAE4AIgD7/xEA1f9Q/47/5v/q/7H/zf/a/9T/9v/+/9P/qf+e/6D/x//e/zYAYABeACQA4P/j/9j/xf+5/yAAZwApAAIALwA2AMj/0v/O/6D/p//c//L/8P81ABgAgP+R/wUA9P/M//z/FQDy/xoAZgAlACwAQgAmAMP/6f8gADYARgBaAHEAZwBKAOD/sv/B/87/0f/H/ywATAAKAPH/3P+v/5T/1/8LADIAggCLABcACgBMADsAAABTAJQAAQDY/z8ATQABADYAewD1/7b/5P+c/3j/4f8yANz/+f86AAEAov9x/4z/pf/s/xEA+f8JADYA+P99/6P/7v+w/6z/9P8eAOz/EQAyANb/2/82ABQAn//t/ysAtP/R/2MAXwDm/xcAHgBk/5L/OQD3/4z/KwBrALf/s/8iANb/d//Q//3/rf8uAKIAMwDr/0sAFwCi/8b/UgBnAEAAUQA7AEIAaABOAAEADAAYALL/pf8/AFMADgAZACUA6f/w/xMAnf+O/+//FQDW/zAAwQBPANj/3/8JAM//BQBlADEAbACTAEIA5v8RAE0A///S/wcAPgAZAAwADAAdAAoA7v+z/73/3//L/+n/AgAGAPr/DAAMAOH/vv/b/87/fv/a/24AgAArADUAOADE/4L/5/81AB8AFwALAAUAy//o/8f/mf+s/73/3v+X/+j/QwAjAAYA/f8UAO3/2P8SACUAMgAtAEAALACEAK8AFwCu/8f/3v/r/z0AXwBCAP7/vf+W/6r/+f/q/6T/kP/W/8r/9/8tACEA6/+//7b/3v88AHMAawBPAH0AhwBRAGcAcgBnABIADQAYADAADQAjAA0Ag/9s/6r/p/+A/6v/sv+1/4D/nP/l/9X/3f/A/63/pv/p/wMASACqAJkAWgD7/woARABlAG0AaQAtAAMASQAFAN3/CgDt/1f/OP/N/6j/i/+P/3r/YP+I/97/sv/A/wIA4P+U/87/UgBXAFsAeAAyAPT/QAA+ADgAiQCiADEA5P8BACoALgAEAOT/qf9y/6D/6P/x/8j/p/+j/2v/Z/+j//D/9f+R/6f/AAAlABQANQBxACcAKQAqAD0ASABuAFcACgAxAE4AFAAFACUAAwC4/9r/8P/K//f/DgDJ/5v/sv/F/5f/vv/2/zAAEAAGACwA8//7/zYAYAAwAFQAggBHADUAiAB/ABoAGgAtAPf/xv8/ACQAwf/O/xEAzf+P//r/w/95/4P/3/8BAAoAagAvABIAJgBGADEANABsAIwArgB+AIsAsQB5AGUATQARAPP/GQBEADIA4//k/87/cf9o/6b/qP+C/3z/k//W/wUA7v/7/wMADAA3ADQAHgAsAHEAbwBsAJgAjABPAPj/EAAmAA0AMAATAPv/2v/O/8f/nv91/1n/sv+C/2L/wv/7/67/cP/e/9j/v/8AACEA5v/7/2EALwAyAJAAmgA9AAMAOQBTAF0AeABRACMAIgA0AOb/0P/U/67/ef9//4z/sv/S/5v/g/+m/+D/pv+f/+n/7f/X/93/NgAcABoAkwCXAGkAZwCKAFgAUgDKAMYAQwAMADcACwDZ/x0A3/+n/8j/x/+d/6r/DADL/4H/if+p/8T/+P8PAPj/HAAEALn/2v9yAJQALAAdADIANwAZAIwAmAAfAPf/CgAHAMz/NgBOAMb/kf/z/ywArP/P/wQAgP8q/6f/zf/C/xkAMQDN/3//wP/U//f/ZwCSAHcAQwAcAPb/NwCiAF8AGAAUABcAIAD6/wYA3/+q/9z/3f+3/4f/p/9a/+f+Y//c/+P/uv/t/7X/ZP+b//n/DgBPALMAhgAPAPf/VwA/AEcAowCGACsAAgA5AB4A/f8iAP3/wf+i/6z/zP+0/53/r//L/7H/aP/I/yoA7/+i/+L/JwABAFAApwBXACkAagA3AB4AmADdAIsAOwBxAGAAMgBvAH0A7/+Z/9z/x/+w/+L/7v+g/13/e/+b/7T/3v/4//T/1/+3/6n/BQBIADoAOQA9AFwAKwBZAJ4AfQA2ABYAZACDADgAPQAbAOf/rv/r/wEA3f/b/6j/Uf9k/8X/1P+z/8T/BQC0/2b/yP/n/7//1P+SAHQAGQB1AGUAEwARAKwAqAAnAEUAUAAvAOz/BQARAPP/2v+v/5j/pv+c/47/p/+h/43/uf/O/5T/jf/G/8f/tv8bAI8AcAAiABoALgArAG0AtQCdAEkASABrAEIALABfADYAp/+p//T/yP+y/+n/yP9p/5T/u/+O/5n/y//Q/5D/r//2/zsAOAAFABoAOQBhADMALgCNAI0APAAgAF8AYQA/ADsA3P/I/xYAEwCM/5D/JQDl/zP/Sv/G/5b/Sf+s//r/1v++/+H/uf/D/1UAkwAsABIATAAwAB8AagCdAE8AJQAhAPf/BAA9ADcAyf/P/9j/z//q/6b/gv/O/+T/WP9d/w8AFwCi/7X/EwDy/+X/TQBuAEQAbQB0ACIAMACeAJ0AbQA8AC4AYABGADIALgAtAMH/if++/7D/xP/V/6j/Xf+N/73/lf+U//T/AQC+/9r/CgD3/w4AeACAADsAZQBtAG4AlwCJAGAATwBlAB0AGABWAPv/lv+O/83/yP+c//X/xP9P/1v/r/+H/3n/MwBBAL3/tf8uABkAw/9nAK0AQQAXAJIAdAAoAI0AnAAkAOn/SwAoANr/5f/9/6L/d//Z//L/vP+z/73/ef9i/7T/x//m/wwAAwDO/8L/3f/S/xsAXQBWADQAOQAlACAASQBMAB4A7v8iAC8A/f8GAEoADgBu/9T/SgD3/6X/HwADAGv/wf9CAPX/2/9YAAYAgf/u/zoA0P8RAHgAIAD0/z0ANgDq/00AVwDo/wEASwA6AO//DwDZ/+P/+P/W/8T/GQBBAND/qv/z/wQAuf/F/zEAIACo/5z/EgDw/9T/GwBCAA8AAQAtABUAFQA8ADMABgAuADcAGAD3/ysADACo//3/LQATAOv/5P/c/67/0f/C/+v/GwACAOL/3P/q/87/2f8gABgAGQBFACoAEwAjAFcANwAUADQAYABwAAMACwBBABAAy//o/zIA6P/0//f/jf+D/yEAIwCW/9v/VADI/2D//f8VAMj/9v9CABYAGABNAO//0v9KAEMA5v8xAJEAQAAGAEYACQDi//j/9//b/8z/FgDf/5n/t//m/9X/tv/1/97/lP/J/9r/pf/C/yQABwDD/xkALADH/8j/PgBRAAEAKgCDAD4A8f8UACEAzv/W/zAAUwAFAN3/8v/7/8f/hv/B//H/AQDO/7P/xv/B/+X/1P/z/yYASgABANH/DQA9AD0AKQBjAHgAJwD6/xgALgALAAUAMwA/AAYAMQAJAHv/i/8bAAkArf8wAFMAtv+M/+T/vP++/0AAJADf/zIAOwDO/wwAcQAjAAEASAAuAOb/HAAgANj/DgAvAOb/2v8uAPX/hP+4////tv+1/zsAIgCt/6z/9v+t/8L/IgAxABYAOQBHABoALAAoABcAFwAMACAAOgBDACkACQAIAO//3//u/9X/wP/W/9v/uP+d/9f/AQDu/+n/DADo/57/xv8eACUAIgB1AI8ARQAGADYANQAaACkANgBKAE4AMwADACAAAgCj/7b/9//k/67/rv+g/4z/vv/T/+T//v/1/6X/rf8YABAAIgBsAI8ARgAgADkAPQBEAEAAQQA5ADkAQwAiAAkA6//d/+7/1v+u/9X/6f/J/5z/zP8IANP/xv/n/wgA5P/H/+r/LgBaADEABwAoACwA///l/wEARQBOACIABQAXAB8A8P/G//X/+f+y/8X/5f/Z/6f/y//j/8b/s//P/wYA7//w/wkA6//O/9f/BQAJABAAJgD+/+X/AwARABsAGgA0ADgAIAD8/+X/BgD2/7//x//4/ysAFQAWAOj/s/8GACcA/f/i/20AfAC+/4z/HgB/ABAA9v9iAFkACgD9/x8AQQBlABgA8/8wAFkA+/+g/+P/9f/7//z//v8kAP3/8//R/wsAIQD0/ycAVgABAK3/KABmAOP/v/9KAD4A7P8XAFwANwDt/xgAJwD//w0AKAAGAMP/6v/7/8P/xP///xAA7f/Z/wIAIwAkAP//z//i/xIAIAAEAOv/BwAYAPr/nf/+/5YAdQDJ/7f/MAD2/4j/s/8GABEAp/+b/8z//v/X/7P/2//n/yYAFADv/w4ANQADAIX/xf8vADoAHwAXABQA4v/8/wgA/f8FACkAFgDD/5z/AQAIAKL/ef/I//b/gv+B//X/HgDi/7r/DwAmADgAPgAYANn/7f8SAAAAKQBTAGsAIQD6/wYALgBgAEAAMAAJAAgA6f/I//T/tv/M/w8A9v+c//T/NQDS/6D/LgBEAMT/8P9EACwA3f8JAC8AHABjAHQAVAAxAEcAMQDu/xkAPgAeABoADADZ/77/1v/T/6n/0f/c/7b/wf/a/+X/6/8UANj/tf8VAAkAjf/R/30ALgC1/wsAlQA6AOj/EgAWAL3/wv/q//P/BwDj/5//hv+4/73/lf/J/xoAGwDR/7z/4f8GAAEA5P/Q//P/FQAMACIAJQAyAC0AMAAKAPn/4//Q/7z/n//m//v/BQDl//j/FQCu/5D/1v8qABYAHwBbAGEATAA7AEUAIgBRAIwATwBHAH0AlgBVACkAEAATACEAJAD5/7//zv8EAN//jP+y/w4A5/+L/6///v8LAOn/EwBeAGcATQAFAAwAQgA6ABIAMwCqAIsAdACMAF8AHgAtADUA0//E/xQA6/+N/4j/oP+O/4H/o/+X/4r/sP+o/5v/0f8pAC8AGAAaABIABgDn/wIAWABuAC4AYACQAEwADwAcABQAu//p/+7/wf+j/7H/s/+s/8f/df9H/63/zP+R/6P/CAAbAPD/+/8SABgABwDr/xAAawBiAFUAfAC0AEsA6P/+/xQAHQD6/wUABgDZ/7D/x/8JALn/bv+l/6f/pP/i/18AcgA8ADQAFQAaAEoAZwBYAFkAkQCEAGcAigB+AFMAHgAWAA8A9f/q/wQA6f+i/5n/7//l/5j/wP+z/5z/hf8BAFYAKgAnAB4AQQAlACYARQBPAHgAgACIAFIAAQAhAAUAvf/a/ygA8/9//5z/q/9v/3b/kP9c/0L/a/9j/2b/n//N/wIAKAAgAPb/DAAxABUAJABQAHcAYQBpAGsAUAA7ABsACQD7/yAAEQDB/4r/lP+t/7P/j/+K/4v/k/+h/6T/tv/+/yMA1/+w/wcAJwAZACUAbACTAHMAXwB5AJAAbgA/AE4AdwBrAFwAQwANAM3/2//n/7b/vP/7/9L/Xf9L/6//8//i/wkADQASAAEADwAvADwAlwB1AIUAbwBdAGkAWQBUAFMAqACBAEgALQAMACMA+P/p/9T/BwD5/5v/kv/F/9n/pf+q/8n/3v/s/+n/xf/o/0YAaQBJAE8AawBbAAYA1v/s/0MAhwBNAAMA5v8bANv/cP+u//n/1/97/6r/wf+6/9n/uf+0/+f/CwCp/27/2/8TAAIABQA8AEcAEADe/8n/5/8gADAAKwBAAA0A4//e/8z/of+8/97/vv+a/7P/vP/A/67/sv/X//H/7f+r/9j/JgBWAEIAVgCnAHEADQDh/xQAMwBEAFQAUgA3ACQAFADl/7//yv/0/93/wf/F/8n/zv+4/77/4P/u/wAA6P/X//D/JABRAHcAgAB6AFwAIwAiAEoAVwBRAG0AhgAoAAIA+//x/9P/3P/9//D/5v+t/5T/y//t/8r/tv/d/+r/0f/u/ykAKQA3AFoAcABZAGoAeQBHAE4AYgBVAFAAfAAvAN3/BgADAK3/uv/n/6D/Pf9F/3H/if/v/8v/cP+k//7/x/+a/zoAZQAfAEEAdQBcAEsAbAAcAPL/IQBeABwA7v8TAPn/u/+l/9T/vP+u/7H/nP9y/6j/DAAJAND/1v/n/7P/y/8hAE8AawCeAHsANQBOAFgAEQAOACoAIAAYAEAAIAADAPz/yP+P/5z/zf+d/3f/pv/H/9P/9v8iAAcA4v/k/+P/AABSAIsAfgBuAIgAdQBIADUASQA7ACYAGQAdABIA3v/F/7//zP+i/4H/b/9i/2//mP/L/8r/3f/l/9r/0v/d/y4ATABUAIIAvACxAHEAfABeAB0ADQA5AE0AMwA2AB4Auf+e/+T/z/9w/3n/nP9e/1L/mv+0/6H/1f/Z/5L/pv/8/yQA9/87AJEAdQBDAHIAjQBWAFsATAAQAA8ANwAlAPH/8//p/7f/n/+D/4v/ef+P/53/i/+p/8z/0f/C/9X/9f/+/xwAZQB1AIAAjACKAE8ARgB3AE0AAwAOACgAFgAnADQA/P/T/8z/mf9p/4j/qf+b/9P/7P/b/+3/JwARAMD/GwBCAB4AUgCiAJkAigDKAIAARwBcAFMA7//q/0cAKQD5/+7/7/+8/5v/mf9h/2v/o//A/7L/s//X/+//6v+9//T/LQA5AEUAawCPAJ8AvQCAAFwAcwBDAAMAFgBLABsACAD7/7n/l/+G/0r/Mv9n/2f/VP+D/7T/qP+W/6n/jv90/8L/8v/z/w8AWwCNAJcAeABtAIwAcgAnAC0AUQBHAE0APwARAPr/AQCj/3f/hf+L/37/Zv+S/2//i/+4/5b/iv+8/xwA2v/z/0UAYwCBAKoArgCCAKQAfQAkAFwAvwCCAEAAfQBXAOz/0f/T/5T/df+y/6f/c/+S/7b/kf+e/8r/qf+k/+j/CAALAFYAsgCoAI0AjQCUAH0AZgAlACQAYwBvADgAOQBfAAoAmf+O/5f/nv+f/8z/wv+i/8r/zv+R/6X/6P/1/9z/FABvAIsAjQB+AIEAegBlAEAAIQAxAEgAPAAUACEARwDm/5L/bv9W/1L/b/97/3f/tf+7/4n/nP/W/77/kv/2/y4AIQBwAM4AuwCBALMAnABJAFUAhQBPABsAYABaABcACADq/6T/X/9s/2n/a/97/5P/nv+M/37/fP+d/67/sv/U/xkARwB0AIAAjwCbAIsAbgBpAIAAcQB0AIYAcQBeAEwAHQDf/8b/r/97/3r/rf+M/2L/h/+U/2r/gP+w/4j/lv/v//P/+/9nAJwAdQB2AKQAgQBfAGsAeABvAGUAWgBQAFAAGQDS/8X/z/+r/3T/jv+h/4L/nv+q/6n/lv+n/73/rv/o//L/FQA1AEAAbABsAFsAMAAsACcAHwALAPr/GwBCAAsAxv/g/+7/qP97/63/u/+c/8D/uf+P/8X/5f+r/5D/AAAqAOH/DwBcAE0APwBiAFIARABzAEAA5v8PAEEAAgD4/xIA/P+v/6j/p/9l/4X/2P/Y/4H/rf/7/7n/k//J/xgAEwAUAFEAZQCCAJIAbQBmAHgAeQBNADwAYgAxABgAHgAZAOn/1f/Y/4z/e/+r/7n/q/+2/7z/k/+a/8f/wv/l/zEALwAkAFUAfwBrAHIAbgA+ADsAUgA6ACAANQAyAOr/BADx/73/7v8HAM//mf/8/xUA3v/b/9b/kP9f/5b/pv+F/7b/7//F/9T/GgBKAF4AUQBrAG4AWgBKAFIAQQACANv/wv/J/9H/2P/d/6z/uf8NADYADQDb/+3/6/+0/6z/xP/r/93/y//H/+H/AgAHAC0ASgBbAF8ATgA/AEMAEQDu/9b/zf/Q/+T/6P+7/9//CwDw//v/FgANANr/0f/7/9X/3v8eAO//4f8nAF8AIwBAAKoA1QAQAQMBrQCrAP8AbACq//H/DgBx/0v/s/9F//b+cf+T/y//Zf/B/zL//f9NAfYAqwDFAeQCMALXATYCPQGzANwAuv/U/Vz9AP7i/DD8OP3Z/Xj+yv98AckBAQLiAk4CpAHoAID/wv3e/En9Tvyd+5n88P3y/q3/FQGQAdEB/QLAArEBfwDR/5P+MP0u/UH8S/z5/UgA6wEKAy4FdwYWCPgILwdCBLwCGwKk/vD6HPlK+ML44Plp+8T81f+MBFEHvwgqCrsKRQrACD8GRwIz/pv7bPnE92r2wvVf9nH4N/uU/BX9If+JAa4BdgDo/xz/UP16/Gj8ofrD+dT6Hv1u/Oz7Ev8w/cP9hv1X/Kr6Uvb++d/2u/Uv+CT4q/3e/dICKwQFB9UOowlQCO8G9gcfAwn5M/o89KPzv/cS+AH4gvlXCEINPwrIDVMPjhBGDWMMkgYx/hoBgAFa/w7/4f9kArIF5wtrCxUGuwgGC48GlwNxApf+sPvI/6UDuv60/i0GOQhmB3II6AirBXkD1wVxAnr8uPoE/KX91f1o/oj8bP/kBP0E8QLeAPYBjgFyAFb/4vky+ev73fzP+nH5Zvz7/BH9e/5z/av75/rW/CH9dfp4+O/3cflg+dv3v/UL9Z/1rfVK9j70DPPO9Oj2Qvh194n59fps+7/+yP9o/R/6Cfyg/mr8GvgM9kH3yfdk96ryb+707c7so+vl6HDqfu938ev4NgtII9IxvTMQQFham2VtU2o11CRsG5QDnN1zubGoDa4FuAS9f8a94hoMIC8kRm1Uq1w7XthY2kubM/AUh/oj7Dbm791Q1SrVbOKY9Kf+DAFL//D/ywODALPzH+XG4/Htzvas/14Nqh8QMoxC+EpfQhwv8xw5CQ3qK8a4q62d9Zq0pGa2+csU64YS3DUISWhQCVIjSo43Thos+dfba8Y1une0F7iHxA/XC/DHBowWjCAlJXUkixvPDjEAoe6Z4i7dM9t/2aDayOSJ7Gv0M/yi/sr+/PqA+xX6DvLl6wDn7+jU6iLsre0+773y9O9P70byhPF17IrfMd/6/wMegR88EaQntmkwfjRX3zKwMmhDJSVZ5pm0FKPRtJq4HKvmqfTKewa1LptCU1BcYNlt32iCXJ1AyhcL98bqau2z20TFTco85FgAPAhBCKsJVAzZGZgXgf2t4g7dsutW7NTiZebJ9sYQayTMLnEweCkXLPwuQR/2/mrh+Nvc2ZvOscfzyOXUUulQBWwV4hJlGiEv1TYNJRMR7wmyAnv2JeqR4oTdFd8A6czzt/ja+S0DHxFOFU8PBQr9CUQHhwHe/QH3+e1z7OTytfIT6VLmZ+5v9Cnz0fEm9JH3Qfw8AdgARfwQ+3D9t/0d9ortwOqG6Rvn6d9t3kDhiuKQ5NTkCema57zoGPBG8c3uUN/P7GMbxCpPHQQRPETBf9do0DsEJHs09zdsAcvH+KAyqLy7263+oe+vi+aQGv8woUS9VvFrV29kZO1XBjRlDtfztu4v6PDI5L3azHfmjvm1+xEDZQftEjMjBRU6+5rtOfbg/j7wsezV+HAKsRy0JXMuGyuEJB0kAhkIAkPhmsvwxmnAar4iwKbK2uFeAYwiiy9sMFw7e0j0QcMjyQd6+FTofdbJydzEesaW03jsNwDsCBISziLWL/gpMRuKEEEK7gHX9s3tTufa547ujfSY9L7y1fet/OH50/M68cXyYe/e7IjzKPlA+K32zv7EBXQA9fes82vyDu0V5tfgyNzP4G/mX+sg7Obo2fAw9HvtLua64SPmq92d2ZP96RrnHTMalzu4eI54SVMKP2A/tz3aD67YirGZoamrqKkXoryp4dQoEfExLkMMV7JvUnm1aNRX8zvVFSn2ROah4dPKELzkywXkZfl4AWAMYBhgHAYmWh7uBXryZO3d847qc+C66if9mBKOH9YoHi1rJ4UmDB7ABfPloMuiwSy60bQ1tUvAcNq4/NAeVjLuPB9KnlinVq05VRcaAh/zXttGwVS1h7jRxYzX8eu+/L8N3CKPM3g47S/4JM4cIhN1B3f3rOnP4sDkvuu26szlBei69H3+lPi6723yG/zv/mn59/W9+bwAOwQsA4P9UfnM9630/+4m5mnhU+Hb5DjpBO1C9KD5yv7QAFb9VPPY4yHgFdzw0KHFG8Xp6gwQbBhSGvUwemqqfzpg20PJOSE7RRlq3YGy3Z7JptOoqaLZrV3RcwVUKmhBfFXuYhFqE2FlUYE3RRFe9ELlVuOl2NTJ4NRu7lwHZhHyE+Eclx/VINMXHf/d6Z/fjOEY4JnZcuLq9fMNXSA1K040iTM4L5cmERUe+pnaKslqwpq8Abg8vOHPjey1CpYgCS2QN1lFK0rdOA4dtwc1++rpPdSKxwXHS9Cv2y/rIPuAB2cWJiUgLWEn/RthF+kScwcK+LHtu+ua60jso+wa7BDuuPOQ+AD4XfQG9Gf4svqT+xf9Q/8GA2kFZAj/BhwA3voa+G30Suyx5Dzie+NV5mjp++618jP0zfcl9oPzRO5i5n7gldDZ3nYF4Q5JCIoML0zkfqphKEJ7PBNQM0Bu/R3MV6+VsBywgZ0rmWWt9OPRFAosGUHBWPV03XbOZ6ZXWTMyEMv2hO+Q4Jy987rO0yXuYvj1+GAMdBxhJRQnqRSZAQL1m/UO9H3gHtwu6lb/iQ4cFcoiMCjJKBsqgSCXCijqvte/0vTFYLfusYq/19kF9GoKKRqlKg9DUFIBSpUxnR3XE38BJOMKyvXAK8Ppx7XTpeOh8RcCexuFMYEzOioNJ1MoJSFCDZb4JuzY6M/q2+U13g3eLum590T5AvSn9Nz9ygZGBGP/OP/HAkAHDgj9Bcf+/fi/+kH7p/Tg6XrlyOjp7fPwq+888jr5/gDSAIL3/O6p7CnreONq0bfFrurrDsENowJbHQZqpXkFUI87v0E6TW4hG+Nwv3at7LFNqbmeNKVtxQ38Qx+gNSlKCGFZcndofl6BRk0fU//+7i3uG9OiubvHwuQC+x/7KQQgGdEhoyiFHz8Ls/lE8V7zwuX/1mjdhe1eARsMFhpoJ8Eo+SxoLfEgiQO+5dbcedLPvnqw47OqxdzX9/HfCZAawi/YRqdR/UH6MBAn/RRE+sDe6M//xTfCB8kL1rjkQfJkCEchbC+aLjcqZyxXKJYXgAIQ8uHnouG13bHYY9X43tzw7vh++OL9ZQsfExMOxAobDEYK7gYuA0cCMv4k94P28/cy9kjugOix7Azv+e7J7CntOfQm+8H/kPn98TzynPCw6hDedNWZzMXTT/sIDE0JmQ0yPxd7TmpzSGY/SEqpQl4F79JMtuytFq7QoBKgV6+Z2pANtSo2QkpTPGr+cgdnQViVM88Q8fhf8GDnZ8fkv2LWKvRkAxgAhg3lHa8mBybDEb39Bu9U7Djr39rx1GzgK/d3C+UVESRILAExUTYNMKIZu/dv42Tbf8oLtNGnSbGxw+vYiO56/0QTCS4jR/hJhDtDM/UvgSHvBVrtiNxH0TfMMc7D0InS7OA2+yYReRcNGpQmqDJIMJ4hbRRUC4kBffZR6p7efNnn3LPiDuUz6DvyzvyhBYUNkBKTEyoSOhWcF8sQNATH/IT9yfqD8LDlSuPF5tzpyukS6evtEPaz/tcAxf/pAGQAbfsr8DLls9261pnP4Ms/xUrazQNLE/wV2SBrXf9/2mELRXg/y0kMKuzo4MQisQqxoar3pBKw1caI9dUcZzcgSktUNGYuYUVUlD1IFyD/Nezc6QHcksVR0jrrYAUwC0UM4x8QJ/Imyhp9BfLzxeKu3jHZAdBK1KPjPv1xE2QmFjSSNws+JEEvMzYRNu6F3p/RbLrco82fua+zxWDbfe7HA9UdcDl8SKVBljUoMgIu3xn1AKzxVOmj4j3gXOYU5TDk1O8d/t4EKgBA/zoFfwuTDwwLHgSvBVERARfxDIj/nv+LCPoD8fAh5AvocO4z7I7pde2/9rwCwg4hE+4Q7hEZF98WPglL/If1ie586GLjQOFx3treT+k58132tfUR+VwB8QOAAG74L/Hb7PLqC+UE3KzYztt84HnZH/IoGFoeVhjbIYlg7XPLRY4tczJpRDceeuT9z9TIpc5Jwre97cbr1jT+JxciKpcwOjZRSpRFnD75KJENIwOE+6sByO4f207pn/8QEogG5AFOEFIWgBarA/3yl+uj51vqreIW37LmmPa9ClEVsh4TI8okxynEJx0Y5vtQ6HjjX9xxyx+9+L/vzn3gOu4Q+CUEXRbMKZIu0CWPHvUcjRnmCxL/1vcT8/L02vlw/GL5r/syBskKEgaB/+P70fh9+Sj76fbJ8bb1lgRRDdELYQncDEAU8xNIC0QAS/pN+UD4QPW+7/3uaPaaAe0F9gKGAwoI+wkxBSf9rvSM7Gnr6uuT5rfgeeIA7vr1h/V99zD87QOfBycFwwCh+d35ifzB9dXpoOCx5Q/otOAq3BXdCN/b4XUAaBq1F/oTCjY2cEVrvkM/On1MdE7MGibsLtma0U3J/rY7sWS0Ysfq6dICfBSJHSQwOkV2SdhE/i6yHI8VMxOdCw3wxuRn8OMByQUP+F/6WAfzDtQIn/bf7CDnAOTW4F3bqtwy4z/xhgOCFW4goCHAJ8M0ujYMIcgFn/n79Njm/s4ev/e+IMs/2HrcpOFx8WcKqhtTG90YxB09JBUg2xW5EBwLsQVkA2YIjgYt/C76UP5AA5T9//ME72bx4fpF+7X2ufjuBkYWLxkEGEoa7R/LIEAXQQvo//z1Se+F6JPgmdmg27jmL+869Lr5egFwCoUP6A9sC9cD5/7j+4z30+8U6Pfmq+vb8E3yHfIT9Ir7ZATuA9/73Pdy/cMBNvty8uDyMPthAJv/yf9WBTEMLA6EDEAIVwP1/Pn0bu0w4ozXg9Zm5df3g/ie/U0b/UPAUOtBIEAdTL9L+S9YDFj2R+UZ1xfJjr1iuAO+WdbC7oX6GQP8FL4tVzdtMoAp0iIpIK4aSRGIACX1FflNACD/ffVI9d//0gQi/yz2A/OY8JLrjeet5LTih+Nr61T30QCeB6gPextGJq0qlSZcHusX7hFtB+D0GOLg2KbYu9go0wLSzd2r8b8AAAewDiIcLSl1LxUryiFKHmEeaBmoCez8yPpp+SL16u/y7ajtgPBM9Yb35ffi+AP9DwLpBoUILwe1B4oLTQ+QDMkEI/6l/Xj9PvVf6Sfllelh7Jzqq+ly75j5WAFfBd8HAgwyEMIPUQxACFwDvvw59evxN/GM7TXqhOyy9Db6R/rt/PMC2gkGCz0G/QJHAqwCXf619rXzh/Wg+Wv6Fvlj/J8AewKo/2T7Uvdf7hDrG+yN7Vbw7/PKA7QUPyXeMCg0AzrYO1E6RSutE/4Am/GI5afS4MR4xBrLGdiA40D0+gQZE4wjuiwDL60oXCCRG2wS9wYa+sDyUfJQ9B74k/rd/ikFSQypDm4JLQOj/YD4OPCT50niNuCT457rZfX9/SUHuBSgIsop3ih0JREiohxKET0B8vIh6STkP99A2mDbrOLD7xn54//qCk8XWCCoHqwdwR6xGkwQegTf/2P60PFW6SvoYu2278zvsPKT/DIGnwfKBmwJyg6OD6cIFAPkAsAEvwHo+Qj3I/ro/Cn5P/T99Dv4P/g186Lx8PRZ99b1Y/QS+qAAWgJMAlgFHQwoDikLVAejBVcFFwCJ95XwIO617W/qFue06MTvjPYH+SP8UwNkCRsLwAmJCTcJ5AbOA5j+0fvD+iv64PYN83rzOfX+9pv1PvUs+KD8XwMxCVQNYBD5FC0ddx+EGwoXqBTMEDQIvf+59yjwbuoG6avpvukn7HjyJ/w+BPsILQ1mEY4VWRaOE/IOSwuiCZ4ITgVoAcABxAXJCJ4HSQY3CE8JZwbeANv7B/lr9rHzVvHZ8Nn0rvooAKIE5gkFEOwTihScEs8OuAn3AwP9lfdG8yTxae9k8ED1a/rW/R0AXQXZCY0KdgZHA3ACngCq+0n2pfX6+Nr7tvyu/REC4QfsCbIIIwf2BvAE1v9A+xD5e/d39EPyvPRa+bj74fsw/gQDzgXAA8T/Tv50/vP7/fXz8VXysfRL9Qj1DPiD/cECGgU4BmEJGgvRCeQGjgXFBGcA5Ps0+pv6jPmo9mT2C/ms/Cj+Df5c/xwClwT/A2YBWQAPAQkBUv4O/D39af7W/TH9Mf8XAcMAxP90/4r/Ff7W+yX5rvd29yz3A/aO9fn2NfkI+zX8hv5JAfgDRgbtB5kJFwplCroKfgoYCUMGJwT+AgwCbf94/Mr7v/0g/9z+nP8tA2gHcQmbCoIMyA4jDw8Ojw3NDH4KKgcFBZIE+wLR/2/9gf3O/qv+Zf28/C7+WAGRA/MCYAKWBPEHywfJBHUD+ANTA5cAZv7S/fr8EPyD+1n8Ef3n/Cj9Av5I/+f+Ev29+2v8Xv4e/lD8Mf3hADEEVAMyApQDvwRYAyj/B/wm+sj3WvQQ8ubyafV295P55f1GBLoIfAqdC1QNFA7hCqIFnwGz/lr7OfbD8nHzdfXE9gL4uvuVAX4FjAedCIoKNQzZCqwH0QTpA60B//yz+aD5kPlX91H1tvbZ+LH4q/dW95/4+/n++ub65/oN/QgAYgJzAscCYQU3B+QGEwW6A7YCCgHD/oL8zvpG+Yf4wPen95n34Pdl+EP56PpW/LL9tP63AG4DJwXlBe0FUgc8CCEHQwTzAdYA1f5x/JP5ifgJ+C75G/oO+0n9FwD/A70FCQfaCI8Kgwt9CqIJ+Qh1CHUHdwXAA3IDLQKbAML+u/2X/f/7yfoq+kT7Z/zE/Mv9q//pAhME0QQoBeUFqQepBrsDPAIdAsEBkf/X/EP9Xv86/+r++P6iALQCwwIIAmECRQRjBBcDAgOCA98FfgRRA5cD3QPyAwAAvv16/Ef7u/g89l73SvgZ+nX7vv4lBKEGOAnBCoULOQsPCXEF3gBa/V75O/bu8oXyAvQH9lL4E/sLAE4DyQWxBi8I7weBBrMEyQIVAR7/Af2d/BP91fwT/Xz8G/0m/bb7pvoa+er5kPj2+IX5WPp//cX+JgH2AmMExwbSBWoF3wNTAo8AK/6v+2b53/hn+N73TvfE9nD4ivqy+5L80v0E/wcCnQJqAgECXgIRA8oCNwHv/xQAewALADT/Lf4s/iH/9f5C/iL+aP7i/8j/VQBEAtYCcwSxBXAGaggxB/YF1wVVBYQDkQHA/9792v13/X38Ev3k/Kz+bQIVA8EDowStBfEFDgTBA/MBHQEgAFn9k/1m/bT+CP6t/Eb+IgCsAM7/l/97AQIClQCKALUCJwMsA8QC/gO3A+YDlwEjAGL/Wfx9+4/56/e9+F34Z/nL+Xb80wC9AsoEtQbiCpEM/QrGCj4JHwhpBQ4CoAA0/uD8XPua+8z7v/xJ/hn/QwFEAxkFSgSRBG4GNQYbBSwEPQWCBIYBbwG9AYsC/v/F/K/8LPs3+Uj3qPUN9SX0rvT59WH42Psn/1gDwQVACIMJPwhJB+QFPgIS/7f5dfbm9a3z5PKz8tLzS/ex+Bj77/v3/az/vACwAUwARQCiACcAzgByAHz/1wByAWcD7wHwAEkAr/8a//38Tfwo/FT8cv3M/lUBbgNtBQgICgphCu4LjQsbCesGpwSEBDABkP9k/T/9Mv51/PH9rf7y/vb/mgAnASIC3QI3AzMD7QJpAk4DTwKDAgsCKAH//un9+vxa/JT6pvdL9834mvqe+y38O/5JAKACOAQJBOkEPgVkBKwCfAHaAMP/P/4C/cP9LwB9/4H/TwBOAY8BCQF3AXgCAwLPAScCKwR0BH0EUQQpBaYGgQYgBo8F8wSVBR8E2AFWAEX/kf4q/I37Mvv1+7r9a/14/wABYwL1A0gEDgbJBX0DxQHjAHgAnP0a+z756PqL+h34r/eg+Cb6m/qP++r8zP7F/3kAQwB9AB8BMQBh/07/d/3L/Xj9Wvw5/XP9VPxe/Nn8tf28/XH8R/2T/mT/tv1x/ugAWQH/AVsAqgFlAk0DhAP2AOf/RwDkAdoBuP44/9P/yQCD/1L/lf+NAFkAggDKAS0DuAElAdgD7QMrAwUDXgG/AckBPP96/EP8mvtH/B/7h/k4+6j9Df9E/igBlgOEA74DIgLNBKwDcgPMACX+PP8m/RL9pfuz+w/9tv2I/xYA6QLCAfUAngBSAdAAyf/y/mIAHgIBAnECBQTuBu4G0wZmBUYEKAS5AYf+ufzn/BX7WftN/Ff9hAEEArYCTAULCCwHawWsBeYD9QSyAsUAdAERAOz/GP/h/tj+gP4Y/+b8vP2I/ML7hvy1/Pf/jgB0AA8CsgNFBCkDMAHJ/qj93vtJ+K339vZJ9lj3/Pe2+6H9uQAKAqkDUwXTBTcFKwMyArYAQ/7G+5/6yvu8/In8xfzP/4IBPQIsAtkC1QLBAdkAyv6S/jr/bf7l/QL/PwEnBK4GsAXwAwcDLwS4AHf/wfrf9wz4SPeG+C/4cvos/cP+tQJAA8EFhAWlBdoFSgONAuX+S/yt/Pv4q/l0+9b8p/7U/t8ANgGXAiwCW/9kAUEAx/9p/yf/eQCl/4UAOAKIApMDYwJXAqQCzAFNATr+kP1j/V79x/99/ef8HQCAAbACaQFsA28D3wMwBHMBEQQEBHgAtAD5/wQBDAHyAKgBBgIuAhMCSgBuANj/Jv9S/1j/7QB5ABQDWwKUAqAF7gVdBXgFRwPfAwMCq/4R/jP8bPrX+TT6wvrR+kT+8P5lAgcDXQOhBQAFkgW8A6UBkP86/tH9wPsr/Lv6ufuU/Fj9+/74/14B0P+YAAkCjgF6AJr+Cf+T/q7+J/+v/gQA9f9MAcABRf/Z/6H/7f6F/XP80v3h+0b9efxk/bb9Sv3+/7X/GwIXAgkCVgTZAaEBCADZ/43/r/02/fj8Av0z/aP9Fv+j/fX/6QDOATICtwCnAmMDPgEaAIABwwA4/zz/x/0p/t79iPyF/UL90f0h/UP+3v/D/9oBjAHdAXgBKAKoAx8AyAG4ALQAqAD0/hYAXf2lADoA4f4pAlMA8AF9AvMBZAHWAUgCawDKAaQAzv9iAlgC2QL0AzIFYwXlA0UCrAFjAJ7/Pv5P/E786PzG+2r83P7u/W8AwAIxBAsF9wW8AzwDQQSdADsAyP+H/Vz+eP3m/+r9MQDW/zT/pQCY/qYA2P/I/nD//f+TAFb/3v+3/2cAOgGIAT8CtQLlAMEA5/7V/tr9oPw2/LX6wfuI++H8bP0L/mD+SwB+ATQBaAIhAfYABAHu/9EA0/20/eX9Jv18/kf9Cf/1/eL/UwLh/1MB7f9RAJgC9gGhAy8AdgAHAdD+9wCV/dj8UgCa/Er+Vv6D/mb+n/5KAMf9GQCV/0L/6ABl/yQB9gARAdkAAf+AAFP/Uv2D/pX91fsc/fv72vyY/O39Dv98AB8DLQI1A5wEvAGABLUCMgLfAEMAqgIvAdkAsP6AAPcB2/+ZAKP/DAEt/7H9Hv8i/pr+nP7v/ogAmADDAyoFNgSeBjoFwARtA2sBPgDd/p79ZPu4/bT8O/vc/a/9awEaAV8BYgOaBJoF8gKmA9EBvQDT//f+fQAq/2//xgDZ/7EBmAFA/xECe/8C/+7/4/z3/OL8E/7K/F79G/3//g0DHQCIAiYF7AGFAgUCVAGZAIX/vf1K/Yv9lfxb/lD+Mv6f/hgBMQKMAo4CSwERAYgBaQAsAK//rv8v/2wAnwBx/y0AnwBm//n/ov57/uj94P3u/pD99/9m/mP/cgD0/8EAKf/I/yz/BQHf/m/91v7j+zj+qv1c/WT9Tv31/iP+DAD5/qf/JgGk/3sBKAC0AdsBwP8QATsA3ABq/1r/IwAU/h//rP42AM//9P5M/9T/zABgAXYAJgBvAbICygIrAa0AuQD3AZYAJQHv/2MAggBFAIMAf/9/AYD9+P8aAbf+kAHjADABuwEUA/IB1wAJBO0AQQQKAmUAeQOVADX/IP+C/8D9bf4j/qj9EP9J/5z/gf/Y/7z/ZwE4ANgBK//1//UAz/9cAJn/QQBQAKUAtAHDAAkCMv41AdQAbf9V/sz9uv7//c8AjACaAHYEEwKrBA4E3ALoA8YC7AAkAEr9/AAY/Sb+e/yt/Vj/of4kAIUA1P9IAfj+CwLV/gT+PP9g/UgAEv6T//v+uf43AYL9RAAp/Wf+Rf0W/pr9Hv10/X/8yv45/hQBUv3nAV//3gE0A/T+pQNH/ocBzfx5/z3+5vzC/9/7+P5t/tz+o/89/pwA5wCXAGwCDwLFAvADAgCKBF4AfAJ4ADr/DATG/P8CIP+N/mUCxv5iAv/+hgGU/6QBugP4/m8C+v8GADICGQG0/5EALv9VADEAs/95/7n+d/8N/6H/Y/8s/wr9Pv/r/XT/EP5r/ev/NP1uATb+XwByAC//4AFx//sBu//mAOcAMP9PAtf/MAAUAOr+4v9m/7f/LQBj/2sAzP8cApYB+gE+AckCygM/Aj0CmAERAcEBav8FAsX+SQHB/R0AfgBr/lcCTP8UAjIBMQLmAdoApwCs/+AAFf5n/w/+Wv5n/nr/Yv4TAOP++/2rAff/UwGd/4D/tQDK/zUBhP6A/7L+i/4BABv/k/0D/o/+pfzI/oD+zv7n/nAAOQBlANMBggDmAbMCGgBLAXwBwAC/AS//owBW/gH/Gv7J/MD+Dv1V/tf+4/8NAdj/4wLAAIcBGQSrAbkCdgGyAWIB3AG9APL+EAAH/23/iACN/uD+Tf/Z/dD+RP7P/g3/w//9/rn/iAJjABEDmwApAXEBff8oAVr+of5j/Q/+YP6z/IX/VPzF/4n+Rf+AARX/DAG/AIgAQf4LAVYAE/+MAcL/7AF4A+AApQHuAScCGwB5AfX/+P8OAMD+8P6q/3f+vf9CAGEAhwAqAusB7wGIAgoC4AF9AcMAXwHIALb+4/8r/0AAB/9G/zQAUf+3AI3/6wAzATr/7gDc/3YCI/+o/3YC2P7KAP/+BwDQ/1L/rv8R/xD/DP8v/v4A6v2w/uX/rv6cAN/90f96ACT+ZgC6/wQBNwBwALgAef/xAMP+lv83/+78Of+GAJX+BQA3/7wATwGtACYBhQC9AQoAkwDJ/87//v+c/vX/kf9O/qj/NgDF/y8AbP8FAJgAPgA/AFcAOQCV/xgCGQBUAF8A1f6u/4j/YP4f/sj+sf0r/43+bv/9/uL/gf8GAOkA3P4lAYIAXgF6Abz9TgHB/+//iv95/ioAyv82AAj/dwCE/yj/XAGzAA7/dwFGANUBmADxAYoB6f+CADABsQEQAvgAmgE9AcYApP+o/nAA1v3w/9n+v/8TADAAtADcAEMBmwBCAUQCVgFPAeYAGQBCAOn/4//H/8D+N/8uAPr/ugGBAEwAlQDwACwAGQGQACP+pAC1/83/egAjAMb/IwBK/1YAyQAL/6z/av8PAIv/EwA1AJP8X/+B/bcAk/7j/msA7v7eAJH/ZQG2/6YAjgJQAPoAIf8U//r/6f6//UL/a/9t/0wAw///AAYBeAA2AQEBxv9FAH4Aqv/1/47+C/8JAPX+Jf+p/z7+Zf/1AEP/tgAiAJUAZwCFADEAwP8MAMT+zP/z/qj/kv/P/bj/Q/8KAC4ANQEWAfoA7gD2/y4Av/83/S0Af/74/oEALv/r/pIAg/8nAHcAIv8UAaMA3P+WAJkAPf86AFUAev6OAF7/cf7cAVf/q/+BAOX/KAHwAQsBXQDBAaz/VQJpAIL/4f5e/1r/YQBLAOj+KwFFAaABIgLU/8b/1QCiAGkA3v/3/Vn/fQBDABMAXP8HAREA9AB/AOsA8v+MALMAef/b/7D/a/7F/4n/Pf7v/1v+cf+WAF7/GAHc/yoBIQBBAV4Apf4HAWz/7f+6/9794f5Y/4//5f+JAI7/cwE3AUsBAQD0AN3/IwDnAG/+UABR/yP+3/+r/8v/ewC0/yoBuwFx/+YA/ABBAMz/vP9J/8wAmADN/kIAlf5//l0BV/8GATEARQASAO0AjQBcAJ7/1/7iAMH//v/G/vr9Wf82/w3/BQADACwATgDAAPAA+P8MALD9sf+F/+z+Lv+D/nj+0f9w/63/jgAcAPb//v9dAVsA9AD9AAwAOAFcAF3/XgG9/rL/q/99/rL/QP9uAIX/pgAMAbQB1wL7ABECkQFbALQAm/4q/3D/X/9o/5IAtP8RAXAAQwE6ATcAhgCg/wIBGgAP/5//Lf/7/pIAk/97/wwASACzAD0AOABu/34AcgCt/yABM//4/7j/BAAvAKT+bAC8/mQABQAx/1cAbgDE//n/SQAXALj/ZP/F/1gAGwDK//z/rQDv/8sA///b/+f/Ff9CAMEAEACwAPj/CAA0AUkApAAUAIMAsf/nAHYAPP+0ACMALf/b/1r/AwHM/6gAvf+v/5AAbf/GAIz/z/8tAJb/KQCz/wb/CP/d/+L/JwAo/2v/IQBUACsAWf9a/5f+FgDo/4j/CwBC/6MAFv+9AAP/Bv8FAeT+gP9//wL/iP9nAKb/FgHm/hEAdwBhAH0AE//iANj+BwF4/ygAFgH6/l8AFAA8ALMACgD6/1gAPgFTAPYAPABf//H/NwDF/2X/3v+F/x0AMQDQACgAgQCIAKMALgHm/08Ah/5O/8T+WP/X/7v/CgBdADQADAFbAVQAk/+c/1D/CP8LAMv+U/+Y/1L/mwBvACsA8AAzAFwAcABy/+f/qP+8/6f/qwDt/ysASAD1/w8AMABd/+kABQCQAA8BYAA5AZUAEQGTABQAUgBj/ysAlf9u/0IAhv+CAOMAJgDsAEEARgBo/4cAqP+Z/wkAS/8XAOD/IgCx//7/4f+T/of/7P50/xr/3/+M/xgAmAAFAIIAbQCp/hsACP+9/2/+kv6F/5z/vADo/84A8f+gAOYAVACd/0b/Av/E/74AsP4TAEkAc//pAMwAo/9bADUAnP81AU4AVv80AW3/DgBPAPH/LABvAAgAFQB8APn/awBsAEIAmv95AD8AkgAEAAP/5P/R//f/WADi/30Ayv8DAbz/2gBb/wT/LQDV/vT/C/9w/wIAMQBr/5r/TwA//xMATf+fAJL/CgAiAO/+mQCE/zMAbf+N/ygAg/8wAdf/Lv/h/0f/BQBYAHL/dAB6ABgAKQE0AC4AtP8oAHMArv/4//j/SAAPAGwAQADZAL8AMAHaAI8AVQF6/9IAHgCR//f/MP9HAFUAsgAiADgAJwCX/08BFQB4AAgA9P+ZAJf/cwAX/jYARv/A/yAAwv5rAF7/oQCd/6r/4v+m/lgB8f6e/yUAn/4yABX/oP/l/ksA6P/T//8Aq/8MAOP/Iv/a/xX/RP8IAO7/IQDD/zsAXABtAEQA0v9IADIAbQC1AMX/XgCA/80AJgBeAJQAvP9yAR8AewB+/6z/Yf/K/9kAJgCsAGYA6ADMAHAAPwA2AKH/5f+KAKb/AwAqAO3+ewCq/4n/2P/0/6D/LAA0AHr/yP+l/jP/sP+X/+b/s/9RADkAEAC0AC0A2/85/8r/gP/i/2EA4P/x/2H/GQD//xIBRQDE/5cAw/8SASMASQC0/zr/WQBaABkASP9NAFsAOgA9AfX/9P/u/3v/0f+0APr/DP9vAAAATgBrAJ7/JgBwAL8AHwAQAE0AgP+V/4n/GP/Q/+X/+/8fAAoAFQD0/5IAmf+K/0AA+P+TAHcAsv/q/7z/u/8QAEH/Ff+Y//b/7v+m/zv/Mf/y/+j/BAB2ADgAdQCLACsAAQAn/zL/0f94/2sA4v94ACAApwAFAB0AHQAuAG8A4v9zAMv/TgCT/zf/y/9a/0UASwBIAKoADwCPAMz/SwD6/+H/XgAOAOr/3/+b/4n/DQB5/9P/OAByAEcA+wB6AEYAzACu/7L/xv+7/9H/6/+Z/8X/bQDg//P/5v+r/xkAw//6//j/X/95/5r//f9BAEQATQCXAEoAyv+o/2r/cv+j/27/oABkAJ0AngB8AAkATADN/9H/NgBx/xEAs/8HAFUArP+oAAcAdwB9ABwAKwCw/zAAgf+2/wgAMv9tABcAqwDOADMA1//I/zgAbP9MAOf/aP/iAIwA+P9EAIH/lP/Q/4n/HQC7/7H/zP/3/2YAFQBeAGcA1gDy/yYAx/9O/3X/Kv+G/3kAdQC4AEcAbQBzAHYAuQAUAJr/3v8aAOX/GwA1AKD/uv8tABsA8P9cAMf/LQCqACAAHQAjAN//9f/2/68A9f9OAIj/Dv9AAHv/7P+e/6n/WQCX//IASwD+/8z/3/8mADkARgAa/57/tP9v/+H/nf/w/+7/rQBTAGgANgBfAOX/UP8XAIb/qP/s/17/zf/r/7H/CgAdAJv/v/8+AJcAFwBlAAMA6P9wAAEA//88/6L/q/93/y8Auf9OAAsA6f8uACsAdQDU/wMACADW//b/mP/t/53/7/+tAKQAwAA+ACoAFAAaAPj/tv+J/3H/gv8PAND/CgDaABcAegDm/ykAMgDM/y0Atv96AMgADwAuAIv/lf+j/zIAhADR/xEAzf+x/1kA6v8lAEkAhgBoADQAMwCc/7n/QwA5/9f/0v+K/4cAUgCiAFkAFABIAEL/4P/k/7P/2f+n//v/sf8kAN7/if+u/9//4/9fACQALf/k/2H/9P88AJMAqQD1//QAx/8lAJn/wP6R/0L/XgBRAJMAVAGgAPMA0AACAJn/dv8g/y3/HwAdAA8AagAqAGsAuwBjAGwAZAAlAAgAwP///5T/2v8KAOL/6v/B/0z/Nv9R/zf/u/+w/+j/UQAfAMwAagAWAFj/Rv+Q/n/+KP+p/rT/nf80ANgAkQCMAFUAdwAIAIr/yv9j/2X/SP9v/ysAHABgAKQAfgB4AEgAlQBPAIUAKQAyAIgA6//h/woAzP/J/yQAEwBEAF8AewAOAXgARgB5AGEAQQD7/xsA3/+//wgArP/O/6H/i////ycACgBHACIA9v/t//b/l/+n/4L/If9X/2b/Tf98/4H//f8HADYAfgBJAFkAPADQ/8j/uf/s/+f/8//m/9z/HwAMABkAXAAJACoASQBPAKwAfAC6ADgABgD3/5X/3P/F/ygAUgBFADEAUQBxAKQAtwCCAH8AgwAlACwA9v9z/2n/Of9N/+D/0P/m/0EA7f9BAEAAdgBfAB8AQwCt/yIAnf+C/7f/J/+d/5r/SQCmAGsAngBEAEcAGgC//63/Z/+y/9X/FwBlAAQAGgD2/7r/2/8JAKz/zf9BAAUAAgD0/67/8/9pAPL/sP/X/2v/7v8nABcAmgAgAGMAWQAcAE0AAQDi/7L/o//V/+T/TQB1AKoApwBnANUArgA+AOL/bv94/3r/mP+9/w8ARgCfALoAUQAnAOj/CQAbAOb/8/+P/4X/h/+6/7v/WP+L/8H/9/8IAEcAdAAvAFAA/////77/dP+0/4r/cP/i/97/OQAzAA4AYQBiAEQAagBNAAIA0//N/8f/3v/p/xsAeABgADkAOADV/wMAEQAsAF8AKAA2APj///8MAMP/zP+g/9H/QAASADEA/P/Z//3/QgBnAOf/7v+h/5//3P+O/7b/kP/Q/zwA+v9AAFEARgBbAPP/9v+h/7j/AQAUAEYA7//0/xIA+/8vAPb/HABJAGMAdgA/AFAA/f/X/9r/fv+t/9D/MwB8APv/KQBHACsAJQDy/+n/lf+s//X/8/8uAAMA4f81AAcA8v8hAAkAJgAfAEAAUgBhAC0A//8DALP/rP/K/7//7P/I/6X/8f8PAGIAiwCQAEMABADx/5z/c/92/23/oP/E/8X/HQAOACsAEADa/8b/s//J/+j/JAAJAAUAFgDl/ycAFQDz//T/rP/L/9v/y//H/7P/6f/5/+z/KABqAGYAQQAWAL//wv+r/6P/r/+5/xcABgD2/yYAIwBEAIUATAA6AEMAzv+o/3H/bP+2/93/HAAQAAMAEQDb//7/LADe/wgA+f/y/w0A0P/2/+L////t/7H/tv/C/xwANABiAEoABABAAMr/of+c/23/rv+s/9b/3v+b/+z/3P87AGMATABmAPD/AwC2/4//sf+S/6//0P8aAPn/DgAmADIAKAA7ADMAGQACAKf/qf+W/6f/tP/F/9n/7P9CAGAAjgBfADgAWADl//n/CQDb/wgAIQAQABoADgDw/8f/qf/g/9H/BQAvAFUAVwA1ABcAvv/L/5X/vf8iAB4AHgDk/wsAKABLAHAAQAAtAOP/2P/5/+L/+/8gAEIAYwBMAAgA4v/V/+X/AwD0/wwAEgD4/wQAFQAbABAAFwDq/8f/zf8WAEUAZACjAGoAEgDz/7T/pP/W/zUAbgB4AK0AbQAMAC4AWAAAAK3/vP/R//f/GwAOABsALAA4ADUAPgBAAOv/6/8DABcAKwBTAGAASgBxAFQAWQCEAE0AHwA1AEUABwD5/zIAFADu/wwA8//r/wIA8//v/xgANwA5AE0AQwANAPj/9f/t/xUAVABaADIAMwAHAAEA+v/g/zQASwCJAHwASgAtAP//y/+s/9r//P8vAAYA7v8lABEADQD6/9v/tP+B/6b/zP/p/0kANQD0/+D/zf/X/w8AGwASABoADwDG/3L/jP/S/93/7/8fAAcADwAGALH/xP/g/9P/hP+D/8j/jP9//83/BAAiAFcAQQANABoAFgD9/8//rf+N/2n/kv+//9L/CgAkAPX/8f/4/9z/xf+n/6b/1v8FAA8AIQAVANf/jP9m/6H/u//t/x4AQQCEAH8AYQAcAAsA+P/K/9D/3/8CABwAFgAPAAMAMABFADgAJwDq/9n/2v8IAD0AVwCIACkA2f/j//D/CgArADEAPQBpAE0ATACNAH0AXgBgAHkATgBMAF4ATwB/AJsAeQA8ABIA8//0/yoAgQC2ANUA/QCRABgAQABPADQATABDAEIARAAtADwAZgB/AHEAQwBaAFQAQQBdAGsAcgCCAGQAZwB9AGsAJwAWAB8AAgD7/x0ACAAQAGsAYgBHAEsAOAASABsAGADl//b/MABYAEAAOgBFABgAAQAAANr/7f8ZAAsAHABHADcA+//5//n/6v/o//j/6P/L/9r/+v8KABMAEADp/9//2P+9/93/3v/V/8j/tP+d/3n/cP9G/2H/t//U/97/BQDh/6P/f/9f/zv/Yf9z/zL/Ff9B/3T/fv+v/8X/mf98/2H/H/8y/2r/V/80/0r/T/8w/z3/Of8p/0n/XP9F/1L/ev94/2T/YP95/47/eP9A/x//Kf8+/0r/av99/5H/nP9w/0T/X/+H/2v/Tf9d/3r/d/+A/4H/d/+f/8D/f/9O/37/o/+D/2X/Vv90/3f/b/9a/3T/k/+C/5X/o/+n/6z/ov+C/2v/kP+Q/3n/nf/M/7j/j/+g/5j/lP/R/9X/wv/U/+7/BADm/7P/n//E/8f/mP+r/+T/1f+l/8L/5v8RAB4A3f+8//X/MAACAAsAQwBCABkA9v/7//P/AAD7//L/OAB0AHMAXgBHADwAQgBGABUABQAqACwAEwA1AHoAoACjAIoAagBnAHMAWAA7AFIAbgBmAFkAWQBuAIcAlwB5AIsAswCqAKwAsQC0AKAAiABzAF8AcwCAAIcAlQCpALMAuAC2ALsAqQCkAJoAdQCQALEAswCwAL8AwgDHAL0AkQCLALIAuwCjAKMAtACtALAAvgCtAL8AzgC/AKUArQC/AMUA6gDzAOkA7QDcANgA1gDTAMIAqACtALYAmgCTAKkArwCfAH0AcgB8AHkAcwBmAHoAlwCSAHgATgBTAGkAOABHAI0AjwBfAEwAUABEACoAGgAEAPn/AAAIAPf/GwA1ACAAEwAJAPL/8//s/83/qP+1/9j/y//G/9H/3f/M/6//kv+r/9D/uP+g/5//oP94/2n/c/9+/5L/if9i/1v/Xv9N/zL/L/9G/0z/VP9L/0X/av95/2b/Rv85/yr/Iv8d/x3/M/9p/3D/Vv9a/1z/R/9E/0P/Pf9D/0T/L/84/2X/V/8x/17/lf+B/2r/gP93/1n/ZP9s/3D/df97/3D/cv+R/6P/v/+8/6//xP/H/6D/gf+S/5v/iv+N/63/uP/D/9D/0P+//9z/7P+9/7j/0//d/8b/yv/5/wEAAQAAAPX///8XACAACgATADMAPwA+AD4ARgAxACcAHgAnADYAPAA7AB4AMABTAEcAKAAyAEUARABAADMARwBcAEoAMgAqAEcALgAFAD4AUgA+AGIAiABmAEoAawBrAFAAYAByAE4APABEAEIATACEAI0AbgBhAGgASwBDAF0AZABGACoAMgAvACQAKABTAE4APgBEAFYARQBGAF8AMwAoAE0AQwAVADUAPwAKAAYANgAxACoATAA7ACQANgApAAYAGAAmABgAIABAADAAAwAiADEAAwAAACAAEwDr/9v/+P/5//X/8//j//r////4//3/LQAwAAEA+v8DAP7/6/8IABkADQATACwAIAASADsAQQAXAPn/FAAPAM//xf/W/+z/DwANAPH/8v8XAAkA7f/+/w4A3/++/8//yP/A/8b/2v/r/w0AJgAUABMAIwAVAAUABgAJAPj/BQAAAOv/3/8EABAA9/8BACkARQAcAPP/8v8RAB4A7v/a//j/FgD8/+P/JQBCAB8AEAAOAAsA8v/x/wYA/f/1/xAA/f/k/wAADAAGAPf/8f/v/+v/8v/q/9f/6P/z/9j/1//5//7/9P/r//b/CwD6/+f/7//4/+j/3P/p/wIACAAUABkAAAD+/wUA+f/r/+7/8//x/+P/7f/z/+f/6v/x/+//AgAdAAIA3//K/9H/3f/L/8v/4//7//z/CwAPAA4AEgABAPT/8P/q/8r/wv/i/+v/7//4/wIAFAAVAAUA8f/p/+j/0f/P/8n/rv+9/+L/+v/V/9b/+f/i/9D/9P8OAAEA8P/g/9T/2v/s/93/AwAtABwA+/8TAC8AAwANACkADgDh/93/+P/g/8//2//x/+n/4v8FACUAEADz/+r///8FAAQA8f/q/wgA+P/1/yQAJQANABkAPwAqABMALwAiAAYABAASAAsACQASAPb/9/8OAPz/8f8EAAkA7f/O/8j/5f8GAAoAAQDn//P/5P/E/+r/BgDu/8j/x//f/+z/9v8AAPz/+P8VAB0A5//e//H/8v/5//f/7v/T/9//7v/a/+v/EwAjABkAGQAsABwA/v/2//3/CgAVAAYA4f/n/woAGAAKAA8AEQAVABcA+v/y//v////s//n/OQAtAPX/BQAhACoAKgAZAAIAAQAXAAIA3//q/wwA/f/j/wEAAwAPACIADQASAAkA9f/l/9z/6P8LABoA/P/6/xQALwA2ABgACQAPACUAFgD4/wYAIAAFAPf/AQAYABsACgAFAP7/EAADAOL//f8cAP3/6v/9//X/5P/5/w4AHAAvACgAGgALAP3///8HAAMA9v/8/wQAGQAFAAQAQAA4AAIAAwAcABcAGQASAAYACADy/+///P8mACAA/f8eADUAGAAVACgAHgDx//v/GwAfABUABwD9//7/FwAUABIAIgDu/+T/9//p/93/5/8HAAYAAQAJAPL/2v/o/+//3f/3/xEAEQAEAAIA/f/s/+n/+/8HAP3/CQAKAP///f8TACMALAA3ADsAIQAMAAwA/f8JABYADgD8//X/CwDl/+L/EQAcAOv/7f8WAA0A9f8HAPz/BAAKAPX/DwAVAAsA8P8FACcA8f/y/x0AHgDy//7/HAAHAPX/8f/w//f/BQDv/93/BwAFANb/7P8NAAYA4P/o////5//j//7/CwDi/+P/AQD3/+r/9P8RABcAHAAKAPD/8P8DAP//4//z/+r/xv/G/wEAHQAGABEAAADn//D/+f/Z/9j/+v/b/93/9v/3/+v/+v/5/+v//P/1/+v///8TAA0ACwASAAkA6v/5/zgAGQDx/w0AJQALAAAADQASAAoAEgAYAAMAAwAfABcACwAVAAwA8f/0/wkA7f/t/wcA/P/1/xUAIgDl/9r/+f/4/+P/7/8RAPz/8/8KAPv/8v8UABIA/f8dACoABwDv//D/8f/l/+r/1v/c/wcAEQD8//H/AwAAAOv/9/8BAPX/7//3/+H/7/8VAAoA9P///xEABADk/97/1v/i/wgADQD3/wgAGQDr/9H/9v8DAOP/0//w//f/7//v/9b/0f/h/+r/7//r//f/BAAgAB8A/v8CABIAEgAEACAAOAAZAPr/AQAUAAsA+P8LAA8ABQAGAAAACQAXAAwA+//s/+3//v8ZACAAGAAXABQAHQAUABYAMQAnAPz/7v8MAAwABwAhAB4ABAARAB8A///n/wkAGAABAA8AIgAIAPf/AwD8//X/+f/q/8//8P8XAPv/+/8bABIA+//9//z//v8PABkABwD8/xMADwDs/wEA/v/y/wsACQDi/+X/DQAUAPT/9P////L/5//+/wUA/P/4//v/6f/a/9//3//Y/+X/8f/p/+f/7f/p/+b/+P/2/9P/2/////T/1P/7/wsA9P/3//z/9P/2/wUA5v/a//z/BADc//H/GwAVAP3/AAABAPT/EQAWAPP/7/8NAAIA5P/0//P/5////xUA9//j/wUA/P/Q/9P/6v/l//T/EQARABgAMAAqAAwAJAAsAP3/8P8aACwAKQA0ADIAKAAZADEANQAOAAgAFwALABQAKwAbAAQACAAPAAUAFwAfAAUAAwAhABIA6P8FACMADgAEACwAHAADACoANgAgACAANwAdAPX/FAAeAPb/BAAZAAcA7P/9/wAA5//6//7/4v/w/wsA+f/d/+T/8//0/+//6P/d/9f/8P/z/9L/3v/k/9T/0v/Z/9b/0f/O/7T/rP+2/6z/l/+Y/6z/o/+G/43/pP+h/4T/iv+U/3f/f/+I/2f/Yf+A/3L/T/9W/2P/U/9r/2z/Tv9M/3D/WP83/1//hf92/1j/V/9c/2v/fP9u/2n/h/+o/6L/nP/B/+L/0P+u/8P/8//z/+z/9//9/xkAPAA1ADEAUABmAEQAOQBaAHwAiQCPAIYAggCdAJkAlQC0AM0AtACwANMA2wD1AAYB9wD7AP8ABAHoAOYA9QDtAOgA9QAKAQMB7wD0APEA1gDpAPYA1QCsANEA7gDLAL4AuADAAMsAxwDHALcAtwCwAJoAiwCEAIoAkwCfAI4AfACbAJwAjACOAIgAcwBRAF8AaABRADwAPgBHADoAQwAzACIAOwA3ACAAGQAhABsA+//w//H/8//3/+7/2v/T/9//5f/E/7//0//S/7z/oP+c/5X/lf+o/57/h/+D/4v/e/9p/3P/b/9a/2D/cP9n/1n/Xf9Z/1L/WP9a/0H/T/9b/0v/Uf9X/0r/PP9X/1T/Sv9T/17/Sf81/1z/ZP9O/0f/Uv9R/0X/Sv9T/1f/av94/2n/Yf+A/4//dP90/4n/gP91/3v/nP+Y/5r/tv+W/4L/o//P/9H/vf/C/8T/t/+7/8n/0//r//L/8f/7/wAA///+/wcAHAAlABIAEgAhABsAJQAxACcAMQA5ADIALAArADYAJQAUACkANAA5ADsAOQAvABYAFAATABEAFQAZABcADgD5/+L///8PAAoAAwAIAAcABAAHAAIA7//p/+z/4v/8//7/2v/E/9D/2f/i/+3/4//V/9z/7P/e/9D/3P/s/+r/3f/k//f/7f/e/+T/2v/X/9v/3f/X/+H/7v/k/9H/1v/S/8j/0v/c/9L/yf/B/7n/pv+t/7L/nf+Z/6b/qP+p/7j/u//A/8H/xv/B/7//uP+2/8T/sv+k/7L/wP+u/6j/wf/H/8T/uf/N/+b/8v/6/+//9f8JAP7/9f8FABUAHwAtADIAQQBDAD0AOgA9AEkAZQBnAGYAegB9AHMAdQB8AIoAlACGAHgAgwCNAIUAdgB/AIYAaABuAIAAbgBjAGUAUwA9ADcAQgBNAE0ATwBFADUAPQA3ACIAHgAZAAcABwAVAAcAAgD+/wUA/f/8/+z/zv/G/8j/xv/E/9z/2//M/8j/yP+6/7T/xP/P/8j/xP/B/7//uv+1/7z/yP/c/9X/2P/m/+z/7v/r//r/BAAHABQAHgAiACAAHgAVACIAOAA7AD8ASwBYAGQAZAB1AJEAlACAAIUAigB3AHEAjwCYAIEAiACdAJQAkgCyAKIAdgB+AJIAeQBYAFsAXQA7ACgAJQAeAA4ABwD0/+f/9v/d/77/x/+8/4j/b/9r/1v/Sf9E/zX/Jv8m/xL/7v7z/hL/7P7X/vf+4v7F/tv+3P65/rn+2P7I/rb+4f7e/sz+6/4K///+Df8n/yb/GP8u/0b/Ov9Y/4P/iv+H/53/u/+9/83/5P/x/wIAJgA9AEAAWQBmAHoAdQCNAK8ArwDAAMsAwADKAN8A8QD0AAYBFwEPARkBLQEvASQBJgEdARsBNgE5ARoB/wAfASMBCAENASYBEwEFAQYB7gD8APkA5QDgAO4A9wD2AN8AwAC9ALkApACZAKEApACcAIMAbABkAG4AbQBOAFAAcABvAFQAPQBDAFIAQgAlAD0AYQBaAC0AHgAZACIANQBFADcAHwAwACgAAwD//xgAHAATAA0AHAAUAPz/7P/b/83/0v/a/8f/0P/M/6D/dv94/5H/i/+C/5X/mv+G/23/ef9p/1D/WP9W/zn/Ov9K/07/O/8l/x//Ff8j/0H/N/8l/yz/Jv8a/xz/Mf8w/xv/Dv8C/wP/CP8J/wb/Jf82/yr/N/8//yb/I/8w/zr/Sf9f/2f/Sf9G/1v/Vf9a/2T/YP9e/3H/fv91/3b/lf+p/5f/ov+6/7X/t/+1/7v/vP+3/8r/1v/X/+P/2//W/8b/0P/Z/9H/8P8IAAYACwAVAAgADAAkABoAAgACAC0AIQASACgALgAZAB4AKwA6AE8ASAA2ACgAMQA4AEEAUgBkAF0AXgBUAEEAOABPAFYASABTAGkAZQBHAFAAXQBYAFgATQBUAGMAbgBkAFwAZgBuAGYAZwCGAJMAfQB8AI4AjQB9AH0AfgCDAJcAkACEAIMAgQB1AHwAgACFAI0AiwCBAHkAcAByAG0AWgBQAE4AXgBqAGcAWgBXAFAARABGAEYANQAtACoAIgAZAB8AOAA3ABsAEQAYABAA+/8PAA4ABAABAP7//v/n/97/7//0/+H/6f/x/+X/3//q/+//5v/P/83/5P/n/9T/yf/b/+D/z//U/+L/5P/v/+3/1v/Z/97/0v/Q//7/AgDm/+3/+//0//P/CwAAAPD/+/8HAAAABgAbAB0AGAAJAPj/DQAaAAYA9v8KABkA/v/z//D/9/8JAAkA8v/q/wMABQDx/+f/6/8CAAMA8//y//z/AwD7/+7/7//m/9r/1f/X/93/1f/M/9v/5//Y/+L/6P/f/9L/1f/B/6//y//d/9P/t//E/9f/3P/h/9n/2//4/wMA5//h/+j/5v/c//v/AQDw//P/AAATAAYACAAiACMAGQAhACUAKQA0AC0AMwA3ACgAIwA1AFIAUwBHAEEATABLAFAAXwBeAFsAZQBgAFoAZgBuAHIAYgBYAFYAWABzAHgAXgBkAGAAUABXAFkASgBFAFkAWAA6ADgAXgBhAEwATQA4ACsANgBCAD4AMgAoABsAJQAsAB8ACgACAAUA/P/5//v/9f/U/8f/z//V/9H/wv+9/5r/nf+u/67/qP+q/6D/lP+b/5D/jf+a/6v/lf+C/5n/hP98/5L/mP+L/4z/k/+O/5P/lv98/2j/dv+M/3z/YP9m/2T/WP9o/3f/dv9//4f/Z/9g/3//jv+J/3//kv+C/2b/dP91/3D/f/+M/4j/if+U/5L/iP+I/5T/iv+I/6D/r/+s/6X/pv+S/6j/zP/I/7b/sP+//7v/uP+//8H/x/+3/6H/sP/Q/7v/tf/L/8//yf/H/9z/3v/V/9r/4//Z/97/6f/0/wIA///1//T/AAAVACwAIAAmADAAGQAvAFQAPwAZACMAMwAiACMATABVAE4ATwBOAEIATQBXAEYAVwBoAGUAbAB1AG0AZgB5AI8AhQCEAJcAmQCUAJEAmACZAI0AjQCOAJoAnwCgAKwArQCiAKwAtwCwAJ0AoACwAJYAlAC5ALsAqwCuAK8AswCyALMAwQC0ALcAwwC9AMAAvACoAI8AjACcAJ8AtQC8AJgApgDBALUAlgCVAKsAogCHAJUAogCnAJ4AgwCMAJMAjACHAIwAigCDAGoAYgBgAFoAaQBgAFUATABDAFoATwA9AFMAWABHADUAPgBHADQAOQAmACUAQwBVAEYAOgA+AD8AOgA3AEUAQgBCADMAHwAnABcA/v8PAB4AEwAHAPX/6f/n/+z/6P/d/+v/8v/b/8D/0//s/9L/v//X//X/4//M/+r/6//b/87/z//K/7T/yP/C/7H/v//D/7D/ov+w/57/n//C/8L/s/+8/8b/o/+c/7v/wP+x/6j/xv/S/8b/wf/L/9j/yP+p/7H/0//d/8b/tP+k/7f/w/+5/7v/v//G/8f/w/+t/67/wf+8/6f/q/+w/6T/mP+t/7z/tv/D/8j/rv+r/77/wf/A/9D/1f/Y/9f/1P/R/8z/yf+9/8X/4f/w/+v/z//T/+n/4//a//L/9f/L/87/+//2/8v/2f///+X/1v/5/wcA7P/t//7/7P/y//D/5P/8/xcA8f/W//D////g/+n/FQDo/77/5f///+b/5v8BAPj/5P/+/wgAAgALAPn/5//8/yIAGgACAAgAEgD8//v/DQAAAPj/CgAOAOT/5v8UAAkA5//v//z/8f8JAB8ABQD2/xAACwD8/wkAJQARAAUAJgA5ACcAIwA0ACUAKABHAD0AGAAgACwAHAARACcAKQADACAALQALAPj/AwAMAPX/BwAqABoABgATAA4A8v8HAB0ADgAGABYAJwAbAAsADAAYACQAKAAeAAkADAAkABsADgAXAAkADAArACYAAwD//w0ABAD6/xoAHQD3/+b/AQAEAPf/AwAUABUADgAjABkABgASABAABgAIADEALQATABkAKQAlAAgAEQALAPz/GAAvABUA+v8VABgA8f/w/wQA8P/i/w4AEgDr/+v/EgAIAPP//v8PAPb/4f8AAAgA/P8IAAsA/f8LABYAAADp/+z/+f/m/+z/EgD4/8T/2//q/9L/3v8JAP//5P/5/woA5//d/wMABgDw//3/+//c//L/EwAGAOP/8f8OAAEADAATAPz/4//8/xEA7P/k//D/8v/Y/9r/4P/Q/+j//v/3/+b/8f/z/83/3f8KAAUA4P/z/wUA5//m//z/9//x/w8ACwDk/wUAIgAAAPP/BQD8/+f/5//o/9X/3v8EAO7/0P/0//z/4//d//v//f/o//r/DgD0/+j/+//v/+7/CQATAPn/+/8UAP7/4//9/yEAFQADAAwABgDv//7/FgAaAP//+f/5//v/EAAfABsACgALAPz/+f8RACAAGQAFABIAFQAUAB4AKwAgABkAJgArACIAFAAkACoAEAATAB8AEgATACQALAAKAO////8XAAsAAwAEAAcADQD///n/AwAQABAA+v/n//v/EAD+/woAHgAKAPj/BAAJAP7/FgAnAAIA9v8TAAgA3v/s/yEACwDU/93/+v/n/+L/+P/p/9P/6/8HAPf/9/8MAPX/2//u//T/8f8QAA0A8P/w/wwACQD2/wQAFgAEAPP/+f/4/+v/4//t/93/vv/K/+b/3P/T//L/AADh/9r/9P8BAP///P8DAAIACQALAPz/AwAoACcACgADABcAGwAQABMAFQAbAA0AAgD7/wUAGwAKAN//6v8VAPf/4/8IABQA9//r/xEAHQAXABQAFgAAAAYAKAAjABYAOQBOADMAJgAxADEAIQApACEACwAPABUAAgAAAB4AFADs//j/FgD5/+D/9v8AAPD/8v8LAAEA+v8dABgA8v/6/yMAHAAFAB8ALAAGAOz/AAACAPX/BAABAOb/5f8AAPX/8P8IAPz/3P/u/wgA+//7/w8AAwDb/97/DQATAAMAEgAgAAMA+/8sADoAHgAUABQA8v/v/xEAEQAAAP//BADs/+X/+//y/+z/+v/y/+T/+f8CAOv/8v8EAPL/4f8EACMADgANAB0ADADn//D/BwAPABUAGQD+/83/2P/8/wUA+/8GAAgA5f/o//7/EQAMAAAA2//i/wwABADw//z/CgDq/9X/BQA8ADAAFgAVAAMA/v8jACUAFAAYAC4ADwDe//P/GwAUAO//+/8JAP7/+//w/+z/8//r/8//zf/x//T/3P/T/9n/0//J/+L////9/+r/3f/M/8z/9/8OAP3/+/8IAP3/5f/6/wsADgAQAAQA+P/p/+f/+//2/+b/5//m/+3/7v/p/+D/3v/Y/+z///8EABEAGgALAPv//f/+/xwARwBDACgAPABAABcAGgBIAFUAKAAbAC4AFwAKAAcADgDx/9b/8P8IAPf/5//2/+//1v/T/wMAIAAcABIACgD7//7/BwAeAEEAQAAmACEALgATABEANwA7ACgAEAAdABEA9/8FAA4A8P/T//X/DQD8//z/AQDx/9X/2f/1/wMAFQALAPb/5//w/wAADQAqADoAKwAKAPj/8P8FABwACgD4//v/9f/f/9n//P8DANH/xP/9/xAA4f/c/+//2//K/83/9v8WAPv/8f/u/9X/3P/2/xUAHAATAAoA/v/3////DQAgACIAAwD9/yEAIwATABsAGgD2/+v/GwAmAP7/CgAgAPP/7P8IABkAIwAmABIA/P/z/wEAGQAsACIAHgAXAPX/8/8RACQAEAAMAAcABwATABcABQADAAcA8f/o//7/FQD9/+7/+//k/87/AQArABwADgATAPX/0P8GAD8ANwAZABwAKAANAPD/BQAZAAUA9P//////9f/w//P/6v/F/7//1//j/+z/5v/h/9D/sP+2/+H/FQAMAPb/+v/3/9z/9/8sADAAEQAOACgAFQAPACUAJAAOAAIACwABAOL/1//t/+D/uf+t/9X/9P/M/8f/3f/J/63/1f8RABsAEQAPAA4A5P/k/xcANQAmACwAOQA2ADMAHwAgADUAKQAJAAwADgDx/9z/8v/s/8D/vv/b/9L/rP+3/9n/vP+o/93/AQDz/+D/7v/1/+X/8v8QADIAPAAkABkAJgAUAAgAFgAbAB8AEAAAAAEA+f/6//3/4//Q/+3/+//l/97/7f/y/87/uv/V//f//v/4////+v/p//D/FwAuACkAHAAyAC8AAwAiADcAHgARACQAHgADAP7/CgD6/+3/+f////P/4P/i/+j/7//V/77/4P8QAAgA9P8LAAQA0v/N/x4APwAdACsAMgAbAAgAIgA9ADEAJQAZAAsAEAAKAPr///8RAPj/8/8UAAoA3//8/woA2v/P////GQACAPj/AgD1/83/+P8wACwAIwAuACwA9P/0/yYAQgAoABMAGgASAAAA8f8RABwABgD0//X/8P/l//P////v/8H/yf8JABkAGAAcABcA7P/a/woAOgA/ADEANAAwAA8A/P81AFMAMQANAB8AIgD+//z/EAAFANr/5/8JAAYA6v/z//z/zf+4/83/AgANAAEA9//w/+//5f8aAE0ATAA7ACYAGgAOABgAPQA+ACoAIgAnAA0A8P8LABgA5P+6/9n//f/r/9n/6v/n/73/tf/i/x0AGgANAAkA6f/g/+j/FQAxABkAEwAZAPP/BAApACQAGQANAAwAGQAaAAMA8v8JAPj/2P8NABgABwD6/9P/zf+l/5P/2P/5/9f/k//C/8X/fv/g/zMA1v8vAB8A9v+IABAAFAAwAO7/GQD//+X/HQDj/73/5v/E/7T/IQAcADQACQD0/xsA2f/I/0IASAAbAPv/7P8fAA8ABABEAFEAIwBKADAAGwBJAEAAOwAzAOr/7v8UAPf/BAD4//D/uv+n/+T/3v/q/9j/yv+7/9b/rP/8/z4A5f/G/9//0P/c/y0AIQASAAUAzf84AEgABgBLAFcAEAATABAANgBAABAA/P/o/8r/7//g//P/4v/H/+L/rf99/8L/4f/T/8z/u//I/83/0P8DADQAGQAJABoAGAAQADQANgAuABgABwAOABsACAADAPf/zP/N/8n/8v/p/9z/2//b/8T/uP/v/x0AEQATAB8AFAAEAA0AUwBNACIAHgAWACoAGAAlADEADwD9////7v/z/wEA8//n/8L/xf/C/9T/6f+//+P/5P+n/8X/EgAVAA8A/v/w/wIA1//z/zUALgAHAAoABwD8/zcAXQBbADoANwBKAFYAUgBIAD0AMQAfAPP/BwACANX/5P/b/53/jP+o/+P/3f/a/+D/9v/0/+D/FwBFAEQAPAAjABsA//8JAEAAIwD7//j/6v/3//X/AAAHANT/5//1/8z/+f/2/+n/JgDL/7b/MgAXAEYAWwDe/xoACQDc/1gARAAYACwA/f/7/wwA9f8fABAA4f8TAOv/8f8lAAMA8P/s/9P/3/8RAMz/1f/2/8P/2v/h/+T/HAAKAOT/9P8BAPz/+/8NADgAFQASACAAEAAXACsAIgA=\" type=\"audio/wav\" />\n",
              "                    Your browser does not support the audio element.\n",
              "                </audio>\n",
              "              "
            ],
            "text/plain": [
              "<IPython.lib.display.Audio object>"
            ]
          },
          "execution_count": 214,
          "metadata": {},
          "output_type": "execute_result"
        }
      ],
      "source": [
        "audio, sr = process_audio(audio_bytes)\n",
        "Audio(data=audio, rate=sr)"
      ]
    },
    {
      "cell_type": "code",
      "execution_count": 215,
      "metadata": {
        "id": "FOJn5RAMIi3n"
      },
      "outputs": [],
      "source": [
        "from scipy.io.wavfile import write\n",
        "write(\"test.wav\", sr, audio)"
      ]
    },
    {
      "cell_type": "code",
      "execution_count": 216,
      "metadata": {
        "id": "ifpfRQbBJMzg"
      },
      "outputs": [],
      "source": [
        "file_to_test = \"test.wav\"\n",
        "audio, sr = librosa.load(file_to_test, sr=16000)"
      ]
    },
    {
      "cell_type": "code",
      "execution_count": 199,
      "metadata": {
        "colab": {
          "base_uri": "https://localhost:8080/"
        },
        "id": "Pt2tzTBHdRIx",
        "outputId": "9eb547cf-32e2-4db5-d3ff-9f3a5e1761ba"
      },
      "outputs": [
        {
          "name": "stderr",
          "output_type": "stream",
          "text": [
            "<ipython-input-197-1d6e0a5c5b76>:66: WavFileWarning: Reached EOF prematurely; finished at 46159 bytes, expected 4294967303 bytes from header.\n",
            "  sr, audio = wav_read(io.BytesIO(output_wav))\n"
          ]
        }
      ],
      "source": [
        "# Or load from a file\n",
        "#file_to_test = \"off.wav\"\n",
        "#audio, sr = librosa.load(file_to_test, sr=16000)\n",
        "#Audio(data=audio, rate=sr)"
      ]
    },
    {
      "cell_type": "code",
      "execution_count": null,
      "metadata": {
        "colab": {
          "base_uri": "https://localhost:8080/"
        },
        "id": "VxR2WOiWdm5c",
        "outputId": "7925d730-dd9b-4ad7-ba97-bb68b36dc9c1"
      },
      "outputs": [
        {
          "name": "stdout",
          "output_type": "stream",
          "text": [
            "\n",
            "Model: ds_cnn_float.tflite\n",
            "Predicted Index: 9\n",
            "Predicted Label: off\n",
            "Probabilities: [0.000e+00 1.000e-04 0.000e+00 2.000e-04 0.000e+00 0.000e+00 0.000e+00\n",
            " 0.000e+00 0.000e+00 9.981e-01 0.000e+00 1.500e-03]\n",
            "\n",
            "Model: ds_cnn_int8_revised.tflite\n",
            "Predicted Index: 9\n",
            "Predicted Label: off\n",
            "Dequantized Scores (if applicable, otherwise raw): [0.     0.     0.     0.     0.     0.     0.     0.     0.     0.9844\n",
            " 0.     0.0117]\n",
            "Raw Quantized Output Scores: [  0   0   0   0   0   0   0   0   0 252   0   3]\n",
            "\n",
            "Model: ds_cnn_dynamic.tflite\n",
            "Predicted Index: 9\n",
            "Predicted Label: off\n",
            "Probabilities: [0.000e+00 2.000e-04 0.000e+00 3.000e-04 0.000e+00 0.000e+00 0.000e+00\n",
            " 0.000e+00 0.000e+00 9.976e-01 0.000e+00 1.800e-03]\n"
          ]
        }
      ],
      "source": [
        "# Example with the float model\n",
        "model_path_to_test = 'ds_cnn_float.tflite'\n",
        "pred_idx, label, probs = run_tflite_inference_singleFile(model_path_to_test, audio, sr)\n",
        "\n",
        "# Example with the revised int8 quantized model\n",
        "model_path_to_test_int8 = 'ds_cnn_int8_revised.tflite'\n",
        "pred_idx_int8, label_int8, scores_int8 = run_tflite_inference_singleFile(model_path_to_test_int8, audio, sr)\n",
        "\n",
        "# Example with the dynamic range quantized model\n",
        "model_path_to_test_dynamic = 'ds_cnn_dynamic.tflite'\n",
        "pred_idx_dyn, label_dyn, probs_dyn = run_tflite_inference_singleFile(model_path_to_test_dynamic, audio, sr)"
      ]
    }
  ],
  "metadata": {
    "accelerator": "GPU",
    "colab": {
      "gpuType": "T4",
      "provenance": []
    },
    "kernelspec": {
      "display_name": "Python 3",
      "name": "python3"
    },
    "language_info": {
      "name": "python"
    }
  },
  "nbformat": 4,
  "nbformat_minor": 0
}
